{
  "cells": [
    {
      "cell_type": "markdown",
      "metadata": {
        "id": "view-in-github",
        "colab_type": "text"
      },
      "source": [
        "<a href=\"https://colab.research.google.com/github/dmamur/elembert/blob/noPosEmbeddings/element_classifier.ipynb\" target=\"_parent\"><img src=\"https://colab.research.google.com/assets/colab-badge.svg\" alt=\"Open In Colab\"/></a>"
      ]
    },
    {
      "cell_type": "code",
      "execution_count": 1,
      "id": "a7b1fb1b",
      "metadata": {
        "id": "a7b1fb1b",
        "scrolled": true
      },
      "outputs": [],
      "source": [
        "import pandas as pd\n",
        "import numpy as np\n",
        "import re, glob,os,sys,pickle,random\n",
        "from collections import defaultdict"
      ]
    },
    {
      "cell_type": "code",
      "source": [
        "!pip install ase\n",
        "!git clone -b noPosEmbeddings https://github.com/dmamur/elembert.git"
      ],
      "metadata": {
        "colab": {
          "base_uri": "https://localhost:8080/"
        },
        "id": "zgmyMBD2uJtw",
        "outputId": "5d36e933-4428-44dc-e124-4fb851b2f448"
      },
      "id": "zgmyMBD2uJtw",
      "execution_count": 2,
      "outputs": [
        {
          "output_type": "stream",
          "name": "stdout",
          "text": [
            "Collecting ase\n",
            "  Downloading ase-3.23.0-py3-none-any.whl.metadata (3.8 kB)\n",
            "Requirement already satisfied: numpy>=1.18.5 in /usr/local/lib/python3.10/dist-packages (from ase) (1.26.4)\n",
            "Requirement already satisfied: scipy>=1.6.0 in /usr/local/lib/python3.10/dist-packages (from ase) (1.13.1)\n",
            "Requirement already satisfied: matplotlib>=3.3.4 in /usr/local/lib/python3.10/dist-packages (from ase) (3.7.1)\n",
            "Requirement already satisfied: contourpy>=1.0.1 in /usr/local/lib/python3.10/dist-packages (from matplotlib>=3.3.4->ase) (1.2.1)\n",
            "Requirement already satisfied: cycler>=0.10 in /usr/local/lib/python3.10/dist-packages (from matplotlib>=3.3.4->ase) (0.12.1)\n",
            "Requirement already satisfied: fonttools>=4.22.0 in /usr/local/lib/python3.10/dist-packages (from matplotlib>=3.3.4->ase) (4.53.1)\n",
            "Requirement already satisfied: kiwisolver>=1.0.1 in /usr/local/lib/python3.10/dist-packages (from matplotlib>=3.3.4->ase) (1.4.5)\n",
            "Requirement already satisfied: packaging>=20.0 in /usr/local/lib/python3.10/dist-packages (from matplotlib>=3.3.4->ase) (24.1)\n",
            "Requirement already satisfied: pillow>=6.2.0 in /usr/local/lib/python3.10/dist-packages (from matplotlib>=3.3.4->ase) (9.4.0)\n",
            "Requirement already satisfied: pyparsing>=2.3.1 in /usr/local/lib/python3.10/dist-packages (from matplotlib>=3.3.4->ase) (3.1.2)\n",
            "Requirement already satisfied: python-dateutil>=2.7 in /usr/local/lib/python3.10/dist-packages (from matplotlib>=3.3.4->ase) (2.8.2)\n",
            "Requirement already satisfied: six>=1.5 in /usr/local/lib/python3.10/dist-packages (from python-dateutil>=2.7->matplotlib>=3.3.4->ase) (1.16.0)\n",
            "Downloading ase-3.23.0-py3-none-any.whl (2.9 MB)\n",
            "\u001b[2K   \u001b[90m━━━━━━━━━━━━━━━━━━━━━━━━━━━━━━━━━━━━━━━━\u001b[0m \u001b[32m2.9/2.9 MB\u001b[0m \u001b[31m15.1 MB/s\u001b[0m eta \u001b[36m0:00:00\u001b[0m\n",
            "\u001b[?25hInstalling collected packages: ase\n",
            "Successfully installed ase-3.23.0\n",
            "Cloning into 'elembert'...\n",
            "remote: Enumerating objects: 1490, done.\u001b[K\n",
            "remote: Counting objects: 100% (572/572), done.\u001b[K\n",
            "remote: Compressing objects: 100% (372/372), done.\u001b[K\n",
            "remote: Total 1490 (delta 362), reused 340 (delta 195), pack-reused 918 (from 1)\u001b[K\n",
            "Receiving objects: 100% (1490/1490), 120.47 MiB | 18.90 MiB/s, done.\n",
            "Resolving deltas: 100% (821/821), done.\n",
            "Updating files: 100% (389/389), done.\n"
          ]
        }
      ]
    },
    {
      "cell_type": "markdown",
      "id": "86baf7df",
      "metadata": {
        "id": "86baf7df"
      },
      "source": [
        "# Load data from matbench"
      ]
    },
    {
      "cell_type": "code",
      "source": [
        "from ase.io import read,write\n",
        "from scipy.ndimage import gaussian_filter1d\n",
        "from ase.neighborlist import neighbor_list\n",
        "from joblib import dump, load\n",
        "from sklearn.cluster import KMeans\n",
        "from sklearn import decomposition\n",
        "from ase import Atoms\n",
        "\n",
        "ellst=open('/content/elembert/models/pcakm/ellist.txt','r').read().split('\\n')\n",
        "print(ellst)\n",
        "\n",
        "km = {i: load('/content/elembert/models/kmeans/'+i+'_kmeans.pkl') for i in ellst}\n",
        "\n",
        "def getRawInputs(types,atoms,x,v):\n",
        "    i, d = neighbor_list('id', atoms, 10.0, self_interaction=False)\n",
        "    rdfatoms,ntypes=[],[]\n",
        "    for k,l in enumerate(atoms):\n",
        "        el=types[k]\n",
        "        y = np.zeros(100)\n",
        "        dist = np.round(d[i==k]*10)\n",
        "        a,b=np.unique(dist, return_counts=True)\n",
        "        np.put(y,a.astype(int)-1,b)\n",
        "        values=gaussian_filter1d(y/v,1)\n",
        "        num = km[el].predict(np.nan_to_num([values],nan=0,posinf=0, neginf=0))[0]\n",
        "        ntypes.append(el+str(num))#el2id[el+str(num)]\n",
        "    return ntypes"
      ],
      "metadata": {
        "colab": {
          "base_uri": "https://localhost:8080/"
        },
        "id": "Hk-gf8Ymaa1y",
        "outputId": "c2d6c02b-0908-44d7-9199-d11aed07c10d"
      },
      "id": "Hk-gf8Ymaa1y",
      "execution_count": 6,
      "outputs": [
        {
          "output_type": "stream",
          "name": "stdout",
          "text": [
            "['H', 'He', 'Li', 'Be', 'B', 'C', 'N', 'O', 'F', 'Ne', 'Na', 'Mg', 'Al', 'Si', 'P', 'S', 'Cl', 'Ar', 'K', 'Ca', 'Sc', 'Ti', 'V', 'Cr', 'Mn', 'Fe', 'Co', 'Ni', 'Cu', 'Zn', 'Ga', 'Ge', 'As', 'Se', 'Br', 'Kr', 'Rb', 'Sr', 'Y', 'Zr', 'Nb', 'Mo', 'Tc', 'Ru', 'Rh', 'Pd', 'Ag', 'Cd', 'In', 'Sn', 'Sb', 'Te', 'I', 'Xe', 'Cs', 'Ba', 'La', 'Ce', 'Pr', 'Nd', 'Pm', 'Sm', 'Eu', 'Gd', 'Tb', 'Dy', 'Ho', 'Er', 'Tm', 'Yb', 'Lu', 'Hf', 'Ta', 'W', 'Re', 'Os', 'Ir', 'Pt', 'Au', 'Hg', 'Tl', 'Pb', 'Bi', 'Po', 'Ra', 'Ac', 'Th', 'Pa', 'U', 'Np', 'Pu', 'Am', 'Cm', 'Bk', 'Cf', 'Rn']\n"
          ]
        },
        {
          "output_type": "stream",
          "name": "stderr",
          "text": [
            "/usr/local/lib/python3.10/dist-packages/sklearn/base.py:348: InconsistentVersionWarning: Trying to unpickle estimator KMeans from version 1.4.2 when using version 1.3.2. This might lead to breaking code or invalid results. Use at your own risk. For more info please refer to:\n",
            "https://scikit-learn.org/stable/model_persistence.html#security-maintainability-limitations\n",
            "  warnings.warn(\n"
          ]
        }
      ]
    },
    {
      "cell_type": "code",
      "source": [
        "from ase.build import molecule\n",
        "atoms = molecule('CH3CH2NH2')\n",
        "#typesLstTest = getModelInputs(train_inputs)"
      ],
      "metadata": {
        "id": "2ZvHlzMnaHNv"
      },
      "id": "2ZvHlzMnaHNv",
      "execution_count": 7,
      "outputs": []
    },
    {
      "cell_type": "code",
      "execution_count": 8,
      "id": "5fa12f0c",
      "metadata": {
        "id": "5fa12f0c"
      },
      "outputs": [],
      "source": [
        "x= np.arange(0,10,0.1)\n",
        "v = np.concatenate([[1],4*np.pi/3*(x[1:]**3 - x[:-1]**3)])\n",
        "typesN=getRawInputs(atoms.get_chemical_symbols(),atoms,x,v)"
      ]
    },
    {
      "cell_type": "code",
      "source": [
        "print(typesN)"
      ],
      "metadata": {
        "colab": {
          "base_uri": "https://localhost:8080/"
        },
        "id": "5TW7sQZeoeLW",
        "outputId": "7d8b81ed-e1ba-45be-f00e-6695c9687219"
      },
      "id": "5TW7sQZeoeLW",
      "execution_count": 9,
      "outputs": [
        {
          "output_type": "stream",
          "name": "stdout",
          "text": [
            "['C5', 'C3', 'N1', 'H0', 'H0', 'H0', 'H0', 'H0', 'H0', 'H0']\n"
          ]
        }
      ]
    },
    {
      "cell_type": "code",
      "source": [
        "from ase.io import read, write"
      ],
      "metadata": {
        "id": "0O296tncB-sw"
      },
      "id": "0O296tncB-sw",
      "execution_count": 10,
      "outputs": []
    },
    {
      "cell_type": "code",
      "source": [
        "atoms=read('/content/elembert/models/pcakm/Figure2a.xyz',format='xyz')\n",
        "typesN1=getRawInputs(atoms.get_chemical_symbols(),atoms,x,v)\n",
        "print(typesN1)"
      ],
      "metadata": {
        "id": "Sf7hA93oCDJD",
        "outputId": "191da312-dd4d-4f55-f31b-4dd2e89768d1",
        "colab": {
          "base_uri": "https://localhost:8080/"
        }
      },
      "id": "Sf7hA93oCDJD",
      "execution_count": 13,
      "outputs": [
        {
          "output_type": "stream",
          "name": "stdout",
          "text": [
            "['C3', 'C1', 'C6', 'C6', 'S7', 'C1', 'C6', 'C3', 'N1', 'C6', 'C3', 'S7', 'C6', 'C1', 'O0', 'O0', 'H0', 'H0', 'H0', 'H0', 'H0', 'H0', 'H0', 'H0', 'H0', 'H0', 'H0', 'H0', 'H0']\n"
          ]
        }
      ]
    },
    {
      "cell_type": "code",
      "source": [
        "atoms=read('/content/elembert/models/pcakm/Figure2b.xyz',format='xyz')\n",
        "typesN2=getRawInputs(atoms.get_chemical_symbols(),atoms,x,v)\n",
        "print(typesN2)"
      ],
      "metadata": {
        "id": "X0hOLtnDM7YF",
        "outputId": "f2bc4828-59e6-4775-91c0-543ac3d1b339",
        "colab": {
          "base_uri": "https://localhost:8080/"
        }
      },
      "id": "X0hOLtnDM7YF",
      "execution_count": 14,
      "outputs": [
        {
          "output_type": "stream",
          "name": "stdout",
          "text": [
            "['Li0', 'Li0', 'Li0', 'Li0', 'Li0', 'Li0', 'Li0', 'Li0', 'Li0', 'Li0', 'Li0', 'Li0', 'Li0', 'Li0', 'Li0', 'Li0', 'Co3', 'Co3', 'O0', 'O0', 'O0', 'O0', 'O0', 'O0', 'O0', 'O0', 'O0', 'O0', 'O0', 'O0']\n"
          ]
        }
      ]
    },
    {
      "cell_type": "code",
      "source": [],
      "metadata": {
        "id": "ZI-AW4nGM-GF"
      },
      "id": "ZI-AW4nGM-GF",
      "execution_count": null,
      "outputs": []
    }
  ],
  "metadata": {
    "colab": {
      "provenance": [],
      "include_colab_link": true
    },
    "kernelspec": {
      "display_name": "Python 3",
      "name": "python3"
    },
    "language_info": {
      "codemirror_mode": {
        "name": "ipython",
        "version": 3
      },
      "file_extension": ".py",
      "mimetype": "text/x-python",
      "name": "python",
      "nbconvert_exporter": "python",
      "pygments_lexer": "ipython3",
      "version": "3.8.10"
    }
  },
  "nbformat": 4,
  "nbformat_minor": 5
}