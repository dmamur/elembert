{
  "cells": [
    {
      "cell_type": "markdown",
      "metadata": {
        "id": "view-in-github",
        "colab_type": "text"
      },
      "source": [
        "<a href=\"https://colab.research.google.com/github/dmamur/elembert/blob/noPosEmbeddings/element_classifier.ipynb\" target=\"_parent\"><img src=\"https://colab.research.google.com/assets/colab-badge.svg\" alt=\"Open In Colab\"/></a>"
      ]
    },
    {
      "cell_type": "code",
      "execution_count": null,
      "id": "a7b1fb1b",
      "metadata": {
        "id": "a7b1fb1b",
        "scrolled": true
      },
      "outputs": [],
      "source": [
        "import pandas as pd\n",
        "import numpy as np\n",
        "import re, glob,os,sys,pickle,random\n",
        "from collections import defaultdict"
      ]
    },
    {
      "cell_type": "code",
      "source": [
        "!pip install ase\n",
        "!git clone https://github.com/dmamur/elembert.git"
      ],
      "metadata": {
        "colab": {
          "base_uri": "https://localhost:8080/"
        },
        "id": "zgmyMBD2uJtw",
        "outputId": "b7c96eb8-7dd2-4c5d-aa92-6b8da987d9f1"
      },
      "id": "zgmyMBD2uJtw",
      "execution_count": null,
      "outputs": [
        {
          "output_type": "stream",
          "name": "stdout",
          "text": [
            "Collecting ase\n",
            "  Downloading ase-3.22.1-py3-none-any.whl (2.2 MB)\n",
            "\u001b[2K     \u001b[90m━━━━━━━━━━━━━━━━━━━━━━━━━━━━━━━━━━━━━━━━\u001b[0m \u001b[32m2.2/2.2 MB\u001b[0m \u001b[31m12.7 MB/s\u001b[0m eta \u001b[36m0:00:00\u001b[0m\n",
            "\u001b[?25hRequirement already satisfied: matplotlib>=3.1.0 in /usr/local/lib/python3.10/dist-packages (from ase) (3.7.1)\n",
            "Requirement already satisfied: numpy>=1.15.0 in /usr/local/lib/python3.10/dist-packages (from ase) (1.23.5)\n",
            "Requirement already satisfied: scipy>=1.1.0 in /usr/local/lib/python3.10/dist-packages (from ase) (1.10.1)\n",
            "Requirement already satisfied: contourpy>=1.0.1 in /usr/local/lib/python3.10/dist-packages (from matplotlib>=3.1.0->ase) (1.1.0)\n",
            "Requirement already satisfied: cycler>=0.10 in /usr/local/lib/python3.10/dist-packages (from matplotlib>=3.1.0->ase) (0.11.0)\n",
            "Requirement already satisfied: fonttools>=4.22.0 in /usr/local/lib/python3.10/dist-packages (from matplotlib>=3.1.0->ase) (4.42.1)\n",
            "Requirement already satisfied: kiwisolver>=1.0.1 in /usr/local/lib/python3.10/dist-packages (from matplotlib>=3.1.0->ase) (1.4.5)\n",
            "Requirement already satisfied: packaging>=20.0 in /usr/local/lib/python3.10/dist-packages (from matplotlib>=3.1.0->ase) (23.1)\n",
            "Requirement already satisfied: pillow>=6.2.0 in /usr/local/lib/python3.10/dist-packages (from matplotlib>=3.1.0->ase) (9.4.0)\n",
            "Requirement already satisfied: pyparsing>=2.3.1 in /usr/local/lib/python3.10/dist-packages (from matplotlib>=3.1.0->ase) (3.1.1)\n",
            "Requirement already satisfied: python-dateutil>=2.7 in /usr/local/lib/python3.10/dist-packages (from matplotlib>=3.1.0->ase) (2.8.2)\n",
            "Requirement already satisfied: six>=1.5 in /usr/local/lib/python3.10/dist-packages (from python-dateutil>=2.7->matplotlib>=3.1.0->ase) (1.16.0)\n",
            "Installing collected packages: ase\n",
            "Successfully installed ase-3.22.1\n",
            "Cloning into 'elementsem'...\n",
            "remote: Enumerating objects: 819, done.\u001b[K\n",
            "remote: Counting objects: 100% (374/374), done.\u001b[K\n",
            "remote: Compressing objects: 100% (200/200), done.\u001b[K\n",
            "remote: Total 819 (delta 187), reused 342 (delta 170), pack-reused 445\u001b[K\n",
            "Receiving objects: 100% (819/819), 99.11 MiB | 29.08 MiB/s, done.\n",
            "Resolving deltas: 100% (404/404), done.\n"
          ]
        }
      ]
    },
    {
      "cell_type": "markdown",
      "id": "86baf7df",
      "metadata": {
        "id": "86baf7df"
      },
      "source": [
        "# Load data from matbench"
      ]
    },
    {
      "cell_type": "code",
      "source": [
        "from ase.io import read,write\n",
        "from scipy.ndimage import gaussian_filter1d\n",
        "from ase.neighborlist import neighbor_list\n",
        "from joblib import dump, load\n",
        "from sklearn.cluster import KMeans\n",
        "from sklearn import decomposition\n",
        "from ase import Atoms\n",
        "\n",
        "ellst=open('/content/elementsem/models/pcakm/ellist.txt','r').read().split('\\n')\n",
        "print(ellst)\n",
        "\n",
        "km = {i: load('/content/elementsem/models/pcakm/'+i+'_kmeans.pkl') for i in ellst}\n",
        "pca = {i: load('/content/elementsem/models/pcakm/'+i+'_pca.pkl') for i in ellst}\n",
        "\n",
        "def getRawInputs(types,atoms,x,v):\n",
        "    i, d = neighbor_list('id', atoms, 10.0, self_interaction=False)\n",
        "    rdfatoms,ntypes=[],[]\n",
        "    for k,l in enumerate(atoms):\n",
        "        el=types[k]\n",
        "        y = np.zeros(100)\n",
        "        dist = np.round(d[i==k]*10)\n",
        "        a,b=np.unique(dist, return_counts=True)\n",
        "        np.put(y,a.astype(int)-1,b)\n",
        "        values=gaussian_filter1d(y/v,1)\n",
        "        num = km[el].predict(np.nan_to_num([values],nan=0,posinf=0, neginf=0))[0]\n",
        "        ntypes.append(el+str(num))#el2id[el+str(num)]\n",
        "    return ntypes"
      ],
      "metadata": {
        "colab": {
          "base_uri": "https://localhost:8080/"
        },
        "id": "Hk-gf8Ymaa1y",
        "outputId": "5abf82e8-e04d-4e23-d930-ab936ae853bf"
      },
      "id": "Hk-gf8Ymaa1y",
      "execution_count": null,
      "outputs": [
        {
          "output_type": "stream",
          "name": "stdout",
          "text": [
            "['H', 'He', 'Li', 'Be', 'B', 'C', 'N', 'O', 'F', 'Ne', 'Na', 'Mg', 'Al', 'Si', 'P', 'S', 'Cl', 'Ar', 'K', 'Ca', 'Sc', 'Ti', 'V', 'Cr', 'Mn', 'Fe', 'Co', 'Ni', 'Cu', 'Zn', 'Ga', 'Ge', 'As', 'Se', 'Br', 'Kr', 'Rb', 'Sr', 'Y', 'Zr', 'Nb', 'Mo', 'Tc', 'Ru', 'Rh', 'Pd', 'Ag', 'Cd', 'In', 'Sn', 'Sb', 'Te', 'I', 'Xe', 'Cs', 'Ba', 'La', 'Ce', 'Pr', 'Nd', 'Pm', 'Sm', 'Eu', 'Gd', 'Tb', 'Dy', 'Ho', 'Er', 'Tm', 'Yb', 'Lu', 'Hf', 'Ta', 'W', 'Re', 'Os', 'Ir', 'Pt', 'Au', 'Hg', 'Tl', 'Pb', 'Bi', 'Po', 'Ra', 'Ac', 'Th', 'Pa', 'U', 'Np', 'Pu', 'Am', 'Cm', 'Bk', 'Cf', 'Rn']\n"
          ]
        },
        {
          "output_type": "stream",
          "name": "stderr",
          "text": [
            "/usr/local/lib/python3.10/dist-packages/sklearn/base.py:318: UserWarning: Trying to unpickle estimator KMeans from version 1.1.2 when using version 1.2.2. This might lead to breaking code or invalid results. Use at your own risk. For more info please refer to:\n",
            "https://scikit-learn.org/stable/model_persistence.html#security-maintainability-limitations\n",
            "  warnings.warn(\n",
            "/usr/local/lib/python3.10/dist-packages/sklearn/base.py:318: UserWarning: Trying to unpickle estimator PCA from version 1.1.2 when using version 1.2.2. This might lead to breaking code or invalid results. Use at your own risk. For more info please refer to:\n",
            "https://scikit-learn.org/stable/model_persistence.html#security-maintainability-limitations\n",
            "  warnings.warn(\n"
          ]
        }
      ]
    },
    {
      "cell_type": "code",
      "source": [
        "from ase.build import molecule\n",
        "atoms = molecule('CH3CH2NH2')\n",
        "#typesLstTest = getModelInputs(train_inputs)"
      ],
      "metadata": {
        "id": "2ZvHlzMnaHNv"
      },
      "id": "2ZvHlzMnaHNv",
      "execution_count": null,
      "outputs": []
    },
    {
      "cell_type": "code",
      "execution_count": null,
      "id": "5fa12f0c",
      "metadata": {
        "id": "5fa12f0c"
      },
      "outputs": [],
      "source": [
        "x= np.arange(0,10,0.1)\n",
        "v = np.concatenate([[1],4*np.pi/3*(x[1:]**3 - x[:-1]**3)])\n",
        "typesN=getRawInputs(atoms.get_chemical_symbols(),atoms,x,v)"
      ]
    },
    {
      "cell_type": "code",
      "source": [
        "print(typesN)"
      ],
      "metadata": {
        "colab": {
          "base_uri": "https://localhost:8080/"
        },
        "id": "5TW7sQZeoeLW",
        "outputId": "dc08c065-66fc-4e84-9de5-70ea2f837b74"
      },
      "id": "5TW7sQZeoeLW",
      "execution_count": null,
      "outputs": [
        {
          "output_type": "stream",
          "name": "stdout",
          "text": [
            "['C1', 'C5', 'N3', 'H0', 'H0', 'H0', 'H0', 'H0', 'H0', 'H0']\n"
          ]
        }
      ]
    },
    {
      "cell_type": "code",
      "source": [
        "from ase.io import read, write"
      ],
      "metadata": {
        "id": "0O296tncB-sw"
      },
      "id": "0O296tncB-sw",
      "execution_count": null,
      "outputs": []
    },
    {
      "cell_type": "code",
      "source": [
        "atoms=read('/content/elementsem/models/pcakm/Figure2a.xyz',format='xyz')\n",
        "typesN1=getRawInputs(atoms.get_chemical_symbols(),atoms,x,v)\n",
        "print(typesN1)"
      ],
      "metadata": {
        "id": "Sf7hA93oCDJD",
        "outputId": "5727234c-84ee-4291-b8e8-e1481213821d",
        "colab": {
          "base_uri": "https://localhost:8080/"
        }
      },
      "id": "Sf7hA93oCDJD",
      "execution_count": null,
      "outputs": [
        {
          "output_type": "stream",
          "name": "stdout",
          "text": [
            "['C5', 'C3', 'C0', 'C0', 'S2', 'C3', 'C0', 'C5', 'N3', 'C0', 'C5', 'S2', 'C0', 'C3', 'O0', 'O2', 'H0', 'H0', 'H0', 'H0', 'H0', 'H0', 'H0', 'H0', 'H0', 'H0', 'H0', 'H0', 'H0']\n"
          ]
        }
      ]
    },
    {
      "cell_type": "code",
      "source": [
        "atoms=read('/content/elementsem/models/pcakm/Figure2b.xyz',format='xyz')\n",
        "typesN2=getRawInputs(atoms.get_chemical_symbols(),atoms,x,v)\n",
        "print(typesN2)"
      ],
      "metadata": {
        "id": "X0hOLtnDM7YF",
        "outputId": "4d3ae8f6-1cc0-4700-f60f-8f4612bde580",
        "colab": {
          "base_uri": "https://localhost:8080/"
        }
      },
      "id": "X0hOLtnDM7YF",
      "execution_count": null,
      "outputs": [
        {
          "output_type": "stream",
          "name": "stdout",
          "text": [
            "['Li0', 'Li0', 'Li0', 'Li0', 'Li0', 'Li0', 'Li0', 'Li0', 'Li0', 'Li0', 'Li0', 'Li0', 'Li0', 'Li0', 'Li0', 'Li0', 'Co1', 'Co1', 'O0', 'O0', 'O0', 'O0', 'O0', 'O0', 'O0', 'O0', 'O0', 'O0', 'O0', 'O0']\n"
          ]
        }
      ]
    },
    {
      "cell_type": "code",
      "source": [],
      "metadata": {
        "id": "ZI-AW4nGM-GF"
      },
      "id": "ZI-AW4nGM-GF",
      "execution_count": null,
      "outputs": []
    }
  ],
  "metadata": {
    "colab": {
      "provenance": [],
      "include_colab_link": true
    },
    "kernelspec": {
      "display_name": "Python 3",
      "name": "python3"
    },
    "language_info": {
      "codemirror_mode": {
        "name": "ipython",
        "version": 3
      },
      "file_extension": ".py",
      "mimetype": "text/x-python",
      "name": "python",
      "nbconvert_exporter": "python",
      "pygments_lexer": "ipython3",
      "version": "3.8.10"
    }
  },
  "nbformat": 4,
  "nbformat_minor": 5
}