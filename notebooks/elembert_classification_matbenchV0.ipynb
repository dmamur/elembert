{
  "cells": [
    {
      "cell_type": "markdown",
      "metadata": {
        "id": "view-in-github",
        "colab_type": "text"
      },
      "source": [
        "<a href=\"https://colab.research.google.com/github/dmamur/elembert/blob/main/notebooks/elembert_classification_matbenchV0.ipynb\" target=\"_parent\"><img src=\"https://colab.research.google.com/assets/colab-badge.svg\" alt=\"Open In Colab\"/></a>"
      ]
    },
    {
      "cell_type": "code",
      "source": [
        "!pip install icc_rt --no-deps\n",
        "!pip install matbench"
      ],
      "metadata": {
        "id": "JaMy40y-ccwM",
        "outputId": "2031bd63-4ebc-45b3-8684-714984b3441e",
        "colab": {
          "base_uri": "https://localhost:8080/"
        }
      },
      "id": "JaMy40y-ccwM",
      "execution_count": 1,
      "outputs": [
        {
          "output_type": "stream",
          "name": "stdout",
          "text": [
            "Requirement already satisfied: icc_rt in /usr/local/lib/python3.10/dist-packages (2020.0.133)\n",
            "Requirement already satisfied: matbench in /usr/local/lib/python3.10/dist-packages (0.6)\n",
            "Requirement already satisfied: matminer>=0.7.4 in /usr/local/lib/python3.10/dist-packages (from matbench) (0.9.0)\n",
            "Requirement already satisfied: scipy>=1.9.0 in /usr/local/lib/python3.10/dist-packages (from matbench) (1.11.4)\n",
            "Requirement already satisfied: monty>=2022.4.26 in /usr/local/lib/python3.10/dist-packages (from matbench) (2024.1.26)\n",
            "Requirement already satisfied: scikit-learn>=1.0.1 in /usr/local/lib/python3.10/dist-packages (from matbench) (1.2.2)\n",
            "Requirement already satisfied: numpy>=1.20.1 in /usr/local/lib/python3.10/dist-packages (from matminer>=0.7.4->matbench) (1.26.3)\n",
            "Requirement already satisfied: requests in /usr/local/lib/python3.10/dist-packages (from matminer>=0.7.4->matbench) (2.31.0)\n",
            "Requirement already satisfied: pandas~=1.5 in /usr/local/lib/python3.10/dist-packages (from matminer>=0.7.4->matbench) (1.5.3)\n",
            "Requirement already satisfied: tqdm in /usr/local/lib/python3.10/dist-packages (from matminer>=0.7.4->matbench) (4.66.1)\n",
            "Requirement already satisfied: pymongo in /usr/local/lib/python3.10/dist-packages (from matminer>=0.7.4->matbench) (4.6.1)\n",
            "Requirement already satisfied: future in /usr/local/lib/python3.10/dist-packages (from matminer>=0.7.4->matbench) (0.18.3)\n",
            "Requirement already satisfied: sympy in /usr/local/lib/python3.10/dist-packages (from matminer>=0.7.4->matbench) (1.12)\n",
            "Requirement already satisfied: pymatgen in /usr/local/lib/python3.10/dist-packages (from matminer>=0.7.4->matbench) (2024.1.27)\n",
            "Requirement already satisfied: joblib>=1.1.1 in /usr/local/lib/python3.10/dist-packages (from scikit-learn>=1.0.1->matbench) (1.3.2)\n",
            "Requirement already satisfied: threadpoolctl>=2.0.0 in /usr/local/lib/python3.10/dist-packages (from scikit-learn>=1.0.1->matbench) (3.2.0)\n",
            "Requirement already satisfied: python-dateutil>=2.8.1 in /usr/local/lib/python3.10/dist-packages (from pandas~=1.5->matminer>=0.7.4->matbench) (2.8.2)\n",
            "Requirement already satisfied: pytz>=2020.1 in /usr/local/lib/python3.10/dist-packages (from pandas~=1.5->matminer>=0.7.4->matbench) (2023.3.post1)\n",
            "Requirement already satisfied: matplotlib>=1.5 in /usr/local/lib/python3.10/dist-packages (from pymatgen->matminer>=0.7.4->matbench) (3.7.1)\n",
            "Requirement already satisfied: networkx>=2.2 in /usr/local/lib/python3.10/dist-packages (from pymatgen->matminer>=0.7.4->matbench) (3.2.1)\n",
            "Requirement already satisfied: palettable>=3.1.1 in /usr/local/lib/python3.10/dist-packages (from pymatgen->matminer>=0.7.4->matbench) (3.3.3)\n",
            "Requirement already satisfied: plotly>=4.5.0 in /usr/local/lib/python3.10/dist-packages (from pymatgen->matminer>=0.7.4->matbench) (5.15.0)\n",
            "Requirement already satisfied: pybtex in /usr/local/lib/python3.10/dist-packages (from pymatgen->matminer>=0.7.4->matbench) (0.24.0)\n",
            "Requirement already satisfied: ruamel.yaml>=0.17.0 in /usr/local/lib/python3.10/dist-packages (from pymatgen->matminer>=0.7.4->matbench) (0.18.5)\n",
            "Requirement already satisfied: spglib>=2.0.2 in /usr/local/lib/python3.10/dist-packages (from pymatgen->matminer>=0.7.4->matbench) (2.3.0)\n",
            "Requirement already satisfied: tabulate in /usr/local/lib/python3.10/dist-packages (from pymatgen->matminer>=0.7.4->matbench) (0.9.0)\n",
            "Requirement already satisfied: uncertainties>=3.1.4 in /usr/local/lib/python3.10/dist-packages (from pymatgen->matminer>=0.7.4->matbench) (3.1.7)\n",
            "Requirement already satisfied: dnspython<3.0.0,>=1.16.0 in /usr/local/lib/python3.10/dist-packages (from pymongo->matminer>=0.7.4->matbench) (2.5.0)\n",
            "Requirement already satisfied: charset-normalizer<4,>=2 in /usr/local/lib/python3.10/dist-packages (from requests->matminer>=0.7.4->matbench) (3.3.2)\n",
            "Requirement already satisfied: idna<4,>=2.5 in /usr/local/lib/python3.10/dist-packages (from requests->matminer>=0.7.4->matbench) (3.6)\n",
            "Requirement already satisfied: urllib3<3,>=1.21.1 in /usr/local/lib/python3.10/dist-packages (from requests->matminer>=0.7.4->matbench) (2.0.7)\n",
            "Requirement already satisfied: certifi>=2017.4.17 in /usr/local/lib/python3.10/dist-packages (from requests->matminer>=0.7.4->matbench) (2023.11.17)\n",
            "Requirement already satisfied: mpmath>=0.19 in /usr/local/lib/python3.10/dist-packages (from sympy->matminer>=0.7.4->matbench) (1.3.0)\n",
            "Requirement already satisfied: contourpy>=1.0.1 in /usr/local/lib/python3.10/dist-packages (from matplotlib>=1.5->pymatgen->matminer>=0.7.4->matbench) (1.2.0)\n",
            "Requirement already satisfied: cycler>=0.10 in /usr/local/lib/python3.10/dist-packages (from matplotlib>=1.5->pymatgen->matminer>=0.7.4->matbench) (0.12.1)\n",
            "Requirement already satisfied: fonttools>=4.22.0 in /usr/local/lib/python3.10/dist-packages (from matplotlib>=1.5->pymatgen->matminer>=0.7.4->matbench) (4.47.2)\n",
            "Requirement already satisfied: kiwisolver>=1.0.1 in /usr/local/lib/python3.10/dist-packages (from matplotlib>=1.5->pymatgen->matminer>=0.7.4->matbench) (1.4.5)\n",
            "Requirement already satisfied: packaging>=20.0 in /usr/local/lib/python3.10/dist-packages (from matplotlib>=1.5->pymatgen->matminer>=0.7.4->matbench) (23.2)\n",
            "Requirement already satisfied: pillow>=6.2.0 in /usr/local/lib/python3.10/dist-packages (from matplotlib>=1.5->pymatgen->matminer>=0.7.4->matbench) (9.4.0)\n",
            "Requirement already satisfied: pyparsing>=2.3.1 in /usr/local/lib/python3.10/dist-packages (from matplotlib>=1.5->pymatgen->matminer>=0.7.4->matbench) (3.1.1)\n",
            "Requirement already satisfied: tenacity>=6.2.0 in /usr/local/lib/python3.10/dist-packages (from plotly>=4.5.0->pymatgen->matminer>=0.7.4->matbench) (8.2.3)\n",
            "Requirement already satisfied: six>=1.5 in /usr/local/lib/python3.10/dist-packages (from python-dateutil>=2.8.1->pandas~=1.5->matminer>=0.7.4->matbench) (1.16.0)\n",
            "Requirement already satisfied: ruamel.yaml.clib>=0.2.7 in /usr/local/lib/python3.10/dist-packages (from ruamel.yaml>=0.17.0->pymatgen->matminer>=0.7.4->matbench) (0.2.8)\n",
            "Requirement already satisfied: PyYAML>=3.01 in /usr/local/lib/python3.10/dist-packages (from pybtex->pymatgen->matminer>=0.7.4->matbench) (6.0.1)\n",
            "Requirement already satisfied: latexcodec>=1.0.4 in /usr/local/lib/python3.10/dist-packages (from pybtex->pymatgen->matminer>=0.7.4->matbench) (2.0.1)\n"
          ]
        }
      ]
    },
    {
      "cell_type": "code",
      "source": [
        "!pip install ase\n",
        "!git clone https://github.com/dmamur/elementsem.git\n",
        "!git clone https://github.com/hackingmaterials/matbench\n",
        "!pip install ./matbench\n",
        "!pip install pymatgen\n",
        "!pip install pydantic==1.10.12 --force-reinstall"
      ],
      "metadata": {
        "id": "l2xrGagWTElx",
        "outputId": "90e22484-7f5c-457c-fa2a-ab91d5748b40",
        "colab": {
          "base_uri": "https://localhost:8080/"
        }
      },
      "id": "l2xrGagWTElx",
      "execution_count": 2,
      "outputs": [
        {
          "output_type": "stream",
          "name": "stdout",
          "text": [
            "Requirement already satisfied: ase in /usr/local/lib/python3.10/dist-packages (3.22.1)\n",
            "Requirement already satisfied: matplotlib>=3.1.0 in /usr/local/lib/python3.10/dist-packages (from ase) (3.7.1)\n",
            "Requirement already satisfied: numpy>=1.15.0 in /usr/local/lib/python3.10/dist-packages (from ase) (1.26.3)\n",
            "Requirement already satisfied: scipy>=1.1.0 in /usr/local/lib/python3.10/dist-packages (from ase) (1.11.4)\n",
            "Requirement already satisfied: contourpy>=1.0.1 in /usr/local/lib/python3.10/dist-packages (from matplotlib>=3.1.0->ase) (1.2.0)\n",
            "Requirement already satisfied: cycler>=0.10 in /usr/local/lib/python3.10/dist-packages (from matplotlib>=3.1.0->ase) (0.12.1)\n",
            "Requirement already satisfied: fonttools>=4.22.0 in /usr/local/lib/python3.10/dist-packages (from matplotlib>=3.1.0->ase) (4.47.2)\n",
            "Requirement already satisfied: kiwisolver>=1.0.1 in /usr/local/lib/python3.10/dist-packages (from matplotlib>=3.1.0->ase) (1.4.5)\n",
            "Requirement already satisfied: packaging>=20.0 in /usr/local/lib/python3.10/dist-packages (from matplotlib>=3.1.0->ase) (23.2)\n",
            "Requirement already satisfied: pillow>=6.2.0 in /usr/local/lib/python3.10/dist-packages (from matplotlib>=3.1.0->ase) (9.4.0)\n",
            "Requirement already satisfied: pyparsing>=2.3.1 in /usr/local/lib/python3.10/dist-packages (from matplotlib>=3.1.0->ase) (3.1.1)\n",
            "Requirement already satisfied: python-dateutil>=2.7 in /usr/local/lib/python3.10/dist-packages (from matplotlib>=3.1.0->ase) (2.8.2)\n",
            "Requirement already satisfied: six>=1.5 in /usr/local/lib/python3.10/dist-packages (from python-dateutil>=2.7->matplotlib>=3.1.0->ase) (1.16.0)\n",
            "fatal: destination path 'elementsem' already exists and is not an empty directory.\n",
            "fatal: destination path 'matbench' already exists and is not an empty directory.\n",
            "Processing ./matbench\n",
            "  Installing build dependencies ... \u001b[?25l\u001b[?25hdone\n",
            "  Getting requirements to build wheel ... \u001b[?25l\u001b[?25hdone\n",
            "  Preparing metadata (pyproject.toml) ... \u001b[?25l\u001b[?25hdone\n",
            "Requirement already satisfied: matminer>=0.7.4 in /usr/local/lib/python3.10/dist-packages (from matbench==0.6) (0.9.0)\n",
            "Requirement already satisfied: scipy>=1.9.0 in /usr/local/lib/python3.10/dist-packages (from matbench==0.6) (1.11.4)\n",
            "Requirement already satisfied: monty>=2022.4.26 in /usr/local/lib/python3.10/dist-packages (from matbench==0.6) (2024.1.26)\n",
            "Requirement already satisfied: scikit-learn>=1.0.1 in /usr/local/lib/python3.10/dist-packages (from matbench==0.6) (1.2.2)\n",
            "Requirement already satisfied: numpy>=1.20.1 in /usr/local/lib/python3.10/dist-packages (from matminer>=0.7.4->matbench==0.6) (1.26.3)\n",
            "Requirement already satisfied: requests in /usr/local/lib/python3.10/dist-packages (from matminer>=0.7.4->matbench==0.6) (2.31.0)\n",
            "Requirement already satisfied: pandas~=1.5 in /usr/local/lib/python3.10/dist-packages (from matminer>=0.7.4->matbench==0.6) (1.5.3)\n",
            "Requirement already satisfied: tqdm in /usr/local/lib/python3.10/dist-packages (from matminer>=0.7.4->matbench==0.6) (4.66.1)\n",
            "Requirement already satisfied: pymongo in /usr/local/lib/python3.10/dist-packages (from matminer>=0.7.4->matbench==0.6) (4.6.1)\n",
            "Requirement already satisfied: future in /usr/local/lib/python3.10/dist-packages (from matminer>=0.7.4->matbench==0.6) (0.18.3)\n",
            "Requirement already satisfied: sympy in /usr/local/lib/python3.10/dist-packages (from matminer>=0.7.4->matbench==0.6) (1.12)\n",
            "Requirement already satisfied: pymatgen in /usr/local/lib/python3.10/dist-packages (from matminer>=0.7.4->matbench==0.6) (2024.1.27)\n",
            "Requirement already satisfied: joblib>=1.1.1 in /usr/local/lib/python3.10/dist-packages (from scikit-learn>=1.0.1->matbench==0.6) (1.3.2)\n",
            "Requirement already satisfied: threadpoolctl>=2.0.0 in /usr/local/lib/python3.10/dist-packages (from scikit-learn>=1.0.1->matbench==0.6) (3.2.0)\n",
            "Requirement already satisfied: python-dateutil>=2.8.1 in /usr/local/lib/python3.10/dist-packages (from pandas~=1.5->matminer>=0.7.4->matbench==0.6) (2.8.2)\n",
            "Requirement already satisfied: pytz>=2020.1 in /usr/local/lib/python3.10/dist-packages (from pandas~=1.5->matminer>=0.7.4->matbench==0.6) (2023.3.post1)\n",
            "Requirement already satisfied: matplotlib>=1.5 in /usr/local/lib/python3.10/dist-packages (from pymatgen->matminer>=0.7.4->matbench==0.6) (3.7.1)\n",
            "Requirement already satisfied: networkx>=2.2 in /usr/local/lib/python3.10/dist-packages (from pymatgen->matminer>=0.7.4->matbench==0.6) (3.2.1)\n",
            "Requirement already satisfied: palettable>=3.1.1 in /usr/local/lib/python3.10/dist-packages (from pymatgen->matminer>=0.7.4->matbench==0.6) (3.3.3)\n",
            "Requirement already satisfied: plotly>=4.5.0 in /usr/local/lib/python3.10/dist-packages (from pymatgen->matminer>=0.7.4->matbench==0.6) (5.15.0)\n",
            "Requirement already satisfied: pybtex in /usr/local/lib/python3.10/dist-packages (from pymatgen->matminer>=0.7.4->matbench==0.6) (0.24.0)\n",
            "Requirement already satisfied: ruamel.yaml>=0.17.0 in /usr/local/lib/python3.10/dist-packages (from pymatgen->matminer>=0.7.4->matbench==0.6) (0.18.5)\n",
            "Requirement already satisfied: spglib>=2.0.2 in /usr/local/lib/python3.10/dist-packages (from pymatgen->matminer>=0.7.4->matbench==0.6) (2.3.0)\n",
            "Requirement already satisfied: tabulate in /usr/local/lib/python3.10/dist-packages (from pymatgen->matminer>=0.7.4->matbench==0.6) (0.9.0)\n",
            "Requirement already satisfied: uncertainties>=3.1.4 in /usr/local/lib/python3.10/dist-packages (from pymatgen->matminer>=0.7.4->matbench==0.6) (3.1.7)\n",
            "Requirement already satisfied: dnspython<3.0.0,>=1.16.0 in /usr/local/lib/python3.10/dist-packages (from pymongo->matminer>=0.7.4->matbench==0.6) (2.5.0)\n",
            "Requirement already satisfied: charset-normalizer<4,>=2 in /usr/local/lib/python3.10/dist-packages (from requests->matminer>=0.7.4->matbench==0.6) (3.3.2)\n",
            "Requirement already satisfied: idna<4,>=2.5 in /usr/local/lib/python3.10/dist-packages (from requests->matminer>=0.7.4->matbench==0.6) (3.6)\n",
            "Requirement already satisfied: urllib3<3,>=1.21.1 in /usr/local/lib/python3.10/dist-packages (from requests->matminer>=0.7.4->matbench==0.6) (2.0.7)\n",
            "Requirement already satisfied: certifi>=2017.4.17 in /usr/local/lib/python3.10/dist-packages (from requests->matminer>=0.7.4->matbench==0.6) (2023.11.17)\n",
            "Requirement already satisfied: mpmath>=0.19 in /usr/local/lib/python3.10/dist-packages (from sympy->matminer>=0.7.4->matbench==0.6) (1.3.0)\n",
            "Requirement already satisfied: contourpy>=1.0.1 in /usr/local/lib/python3.10/dist-packages (from matplotlib>=1.5->pymatgen->matminer>=0.7.4->matbench==0.6) (1.2.0)\n",
            "Requirement already satisfied: cycler>=0.10 in /usr/local/lib/python3.10/dist-packages (from matplotlib>=1.5->pymatgen->matminer>=0.7.4->matbench==0.6) (0.12.1)\n",
            "Requirement already satisfied: fonttools>=4.22.0 in /usr/local/lib/python3.10/dist-packages (from matplotlib>=1.5->pymatgen->matminer>=0.7.4->matbench==0.6) (4.47.2)\n",
            "Requirement already satisfied: kiwisolver>=1.0.1 in /usr/local/lib/python3.10/dist-packages (from matplotlib>=1.5->pymatgen->matminer>=0.7.4->matbench==0.6) (1.4.5)\n",
            "Requirement already satisfied: packaging>=20.0 in /usr/local/lib/python3.10/dist-packages (from matplotlib>=1.5->pymatgen->matminer>=0.7.4->matbench==0.6) (23.2)\n",
            "Requirement already satisfied: pillow>=6.2.0 in /usr/local/lib/python3.10/dist-packages (from matplotlib>=1.5->pymatgen->matminer>=0.7.4->matbench==0.6) (9.4.0)\n",
            "Requirement already satisfied: pyparsing>=2.3.1 in /usr/local/lib/python3.10/dist-packages (from matplotlib>=1.5->pymatgen->matminer>=0.7.4->matbench==0.6) (3.1.1)\n",
            "Requirement already satisfied: tenacity>=6.2.0 in /usr/local/lib/python3.10/dist-packages (from plotly>=4.5.0->pymatgen->matminer>=0.7.4->matbench==0.6) (8.2.3)\n",
            "Requirement already satisfied: six>=1.5 in /usr/local/lib/python3.10/dist-packages (from python-dateutil>=2.8.1->pandas~=1.5->matminer>=0.7.4->matbench==0.6) (1.16.0)\n",
            "Requirement already satisfied: ruamel.yaml.clib>=0.2.7 in /usr/local/lib/python3.10/dist-packages (from ruamel.yaml>=0.17.0->pymatgen->matminer>=0.7.4->matbench==0.6) (0.2.8)\n",
            "Requirement already satisfied: PyYAML>=3.01 in /usr/local/lib/python3.10/dist-packages (from pybtex->pymatgen->matminer>=0.7.4->matbench==0.6) (6.0.1)\n",
            "Requirement already satisfied: latexcodec>=1.0.4 in /usr/local/lib/python3.10/dist-packages (from pybtex->pymatgen->matminer>=0.7.4->matbench==0.6) (2.0.1)\n",
            "Building wheels for collected packages: matbench\n",
            "  Building wheel for matbench (pyproject.toml) ... \u001b[?25l\u001b[?25hdone\n",
            "  Created wheel for matbench: filename=matbench-0.6-py3-none-any.whl size=5449480 sha256=0228b282c053c5227925593bd8b60fdacfe5bc8172802f2c7c5e2c2f8190660b\n",
            "  Stored in directory: /tmp/pip-ephem-wheel-cache-7shj9nvn/wheels/0d/71/69/39ae3b7c60edd18e46ed290a09bc2fe0c344372520cd165c70\n",
            "Successfully built matbench\n",
            "Installing collected packages: matbench\n",
            "  Attempting uninstall: matbench\n",
            "    Found existing installation: matbench 0.6\n",
            "    Uninstalling matbench-0.6:\n",
            "      Successfully uninstalled matbench-0.6\n",
            "Successfully installed matbench-0.6\n",
            "Requirement already satisfied: pymatgen in /usr/local/lib/python3.10/dist-packages (2024.1.27)\n",
            "Requirement already satisfied: matplotlib>=1.5 in /usr/local/lib/python3.10/dist-packages (from pymatgen) (3.7.1)\n",
            "Requirement already satisfied: monty>=3.0.2 in /usr/local/lib/python3.10/dist-packages (from pymatgen) (2024.1.26)\n",
            "Requirement already satisfied: networkx>=2.2 in /usr/local/lib/python3.10/dist-packages (from pymatgen) (3.2.1)\n",
            "Requirement already satisfied: numpy>=1.25.0 in /usr/local/lib/python3.10/dist-packages (from pymatgen) (1.26.3)\n",
            "Requirement already satisfied: palettable>=3.1.1 in /usr/local/lib/python3.10/dist-packages (from pymatgen) (3.3.3)\n",
            "Requirement already satisfied: pandas in /usr/local/lib/python3.10/dist-packages (from pymatgen) (1.5.3)\n",
            "Requirement already satisfied: plotly>=4.5.0 in /usr/local/lib/python3.10/dist-packages (from pymatgen) (5.15.0)\n",
            "Requirement already satisfied: pybtex in /usr/local/lib/python3.10/dist-packages (from pymatgen) (0.24.0)\n",
            "Requirement already satisfied: requests in /usr/local/lib/python3.10/dist-packages (from pymatgen) (2.31.0)\n",
            "Requirement already satisfied: ruamel.yaml>=0.17.0 in /usr/local/lib/python3.10/dist-packages (from pymatgen) (0.18.5)\n",
            "Requirement already satisfied: scipy>=1.5.0 in /usr/local/lib/python3.10/dist-packages (from pymatgen) (1.11.4)\n",
            "Requirement already satisfied: spglib>=2.0.2 in /usr/local/lib/python3.10/dist-packages (from pymatgen) (2.3.0)\n",
            "Requirement already satisfied: sympy in /usr/local/lib/python3.10/dist-packages (from pymatgen) (1.12)\n",
            "Requirement already satisfied: tabulate in /usr/local/lib/python3.10/dist-packages (from pymatgen) (0.9.0)\n",
            "Requirement already satisfied: tqdm in /usr/local/lib/python3.10/dist-packages (from pymatgen) (4.66.1)\n",
            "Requirement already satisfied: uncertainties>=3.1.4 in /usr/local/lib/python3.10/dist-packages (from pymatgen) (3.1.7)\n",
            "Requirement already satisfied: joblib in /usr/local/lib/python3.10/dist-packages (from pymatgen) (1.3.2)\n",
            "Requirement already satisfied: contourpy>=1.0.1 in /usr/local/lib/python3.10/dist-packages (from matplotlib>=1.5->pymatgen) (1.2.0)\n",
            "Requirement already satisfied: cycler>=0.10 in /usr/local/lib/python3.10/dist-packages (from matplotlib>=1.5->pymatgen) (0.12.1)\n",
            "Requirement already satisfied: fonttools>=4.22.0 in /usr/local/lib/python3.10/dist-packages (from matplotlib>=1.5->pymatgen) (4.47.2)\n",
            "Requirement already satisfied: kiwisolver>=1.0.1 in /usr/local/lib/python3.10/dist-packages (from matplotlib>=1.5->pymatgen) (1.4.5)\n",
            "Requirement already satisfied: packaging>=20.0 in /usr/local/lib/python3.10/dist-packages (from matplotlib>=1.5->pymatgen) (23.2)\n",
            "Requirement already satisfied: pillow>=6.2.0 in /usr/local/lib/python3.10/dist-packages (from matplotlib>=1.5->pymatgen) (9.4.0)\n",
            "Requirement already satisfied: pyparsing>=2.3.1 in /usr/local/lib/python3.10/dist-packages (from matplotlib>=1.5->pymatgen) (3.1.1)\n",
            "Requirement already satisfied: python-dateutil>=2.7 in /usr/local/lib/python3.10/dist-packages (from matplotlib>=1.5->pymatgen) (2.8.2)\n",
            "Requirement already satisfied: tenacity>=6.2.0 in /usr/local/lib/python3.10/dist-packages (from plotly>=4.5.0->pymatgen) (8.2.3)\n",
            "Requirement already satisfied: ruamel.yaml.clib>=0.2.7 in /usr/local/lib/python3.10/dist-packages (from ruamel.yaml>=0.17.0->pymatgen) (0.2.8)\n",
            "Requirement already satisfied: future in /usr/local/lib/python3.10/dist-packages (from uncertainties>=3.1.4->pymatgen) (0.18.3)\n",
            "Requirement already satisfied: pytz>=2020.1 in /usr/local/lib/python3.10/dist-packages (from pandas->pymatgen) (2023.3.post1)\n",
            "Requirement already satisfied: PyYAML>=3.01 in /usr/local/lib/python3.10/dist-packages (from pybtex->pymatgen) (6.0.1)\n",
            "Requirement already satisfied: latexcodec>=1.0.4 in /usr/local/lib/python3.10/dist-packages (from pybtex->pymatgen) (2.0.1)\n",
            "Requirement already satisfied: six in /usr/local/lib/python3.10/dist-packages (from pybtex->pymatgen) (1.16.0)\n",
            "Requirement already satisfied: charset-normalizer<4,>=2 in /usr/local/lib/python3.10/dist-packages (from requests->pymatgen) (3.3.2)\n",
            "Requirement already satisfied: idna<4,>=2.5 in /usr/local/lib/python3.10/dist-packages (from requests->pymatgen) (3.6)\n",
            "Requirement already satisfied: urllib3<3,>=1.21.1 in /usr/local/lib/python3.10/dist-packages (from requests->pymatgen) (2.0.7)\n",
            "Requirement already satisfied: certifi>=2017.4.17 in /usr/local/lib/python3.10/dist-packages (from requests->pymatgen) (2023.11.17)\n",
            "Requirement already satisfied: mpmath>=0.19 in /usr/local/lib/python3.10/dist-packages (from sympy->pymatgen) (1.3.0)\n",
            "Collecting pydantic==1.10.12\n",
            "  Using cached pydantic-1.10.12-cp310-cp310-manylinux_2_17_x86_64.manylinux2014_x86_64.whl (3.1 MB)\n",
            "Collecting typing-extensions>=4.2.0 (from pydantic==1.10.12)\n",
            "  Using cached typing_extensions-4.9.0-py3-none-any.whl (32 kB)\n",
            "Installing collected packages: typing-extensions, pydantic\n",
            "  Attempting uninstall: typing-extensions\n",
            "    Found existing installation: typing_extensions 4.9.0\n",
            "    Uninstalling typing_extensions-4.9.0:\n",
            "      Successfully uninstalled typing_extensions-4.9.0\n",
            "  Attempting uninstall: pydantic\n",
            "    Found existing installation: pydantic 1.10.12\n",
            "    Uninstalling pydantic-1.10.12:\n",
            "      Successfully uninstalled pydantic-1.10.12\n",
            "\u001b[31mERROR: pip's dependency resolver does not currently take into account all the packages that are installed. This behaviour is the source of the following dependency conflicts.\n",
            "lida 0.0.10 requires fastapi, which is not installed.\n",
            "lida 0.0.10 requires kaleido, which is not installed.\n",
            "lida 0.0.10 requires python-multipart, which is not installed.\n",
            "lida 0.0.10 requires uvicorn, which is not installed.\n",
            "llmx 0.0.15a0 requires cohere, which is not installed.\n",
            "llmx 0.0.15a0 requires openai, which is not installed.\n",
            "llmx 0.0.15a0 requires tiktoken, which is not installed.\n",
            "tensorflow-probability 0.22.0 requires typing-extensions<4.6.0, but you have typing-extensions 4.9.0 which is incompatible.\u001b[0m\u001b[31m\n",
            "\u001b[0mSuccessfully installed pydantic-1.10.12 typing-extensions-4.9.0\n"
          ]
        }
      ]
    },
    {
      "cell_type": "markdown",
      "source": [
        "Restart the session and run again."
      ],
      "metadata": {
        "id": "1BRNqHap_yt_"
      },
      "id": "1BRNqHap_yt_"
    },
    {
      "cell_type": "code",
      "execution_count": 3,
      "id": "a7b1fb1b",
      "metadata": {
        "id": "a7b1fb1b",
        "scrolled": true
      },
      "outputs": [],
      "source": [
        "import pickle,random\n",
        "import pandas as pd\n",
        "import numpy as np\n",
        "import tensorflow as tf\n",
        "from tensorflow import keras\n",
        "from tensorflow.keras import layers\n",
        "from tensorflow.keras.layers import Embedding,Dense,Dropout,Input,Lambda\n",
        "from tensorflow.keras.models import Model\n",
        "import tensorflow.keras.backend as K\n",
        "import re, glob,os,sys\n",
        "from collections import defaultdict\n",
        "from tensorflow.keras.utils import plot_model\n",
        "from tensorflow.keras.models import load_model\n",
        "from tensorflow.keras.utils import to_categorical\n",
        "\n",
        "def bert_module(query, key, value, i, config):\n",
        "    # Multi headed self-attention\n",
        "    attention_output = layers.MultiHeadAttention(\n",
        "        num_heads=config.NUM_HEAD,\n",
        "        key_dim=config.EMBED_DIM // config.NUM_HEAD,\n",
        "        name=\"encoder_{}/multiheadattention\".format(i),\n",
        "        kernel_initializer=tf.keras.initializers.GlorotUniform(seed=config.seed)\n",
        "    )(query, key, value)\n",
        "    attention_output = layers.Dropout(0.1, name=\"encoder_{}/att_dropout\".format(i))(\n",
        "        attention_output\n",
        "    )\n",
        "    attention_output = layers.LayerNormalization(\n",
        "        epsilon=1e-6, name=\"encoder_{}/att_layernormalization\".format(i)\n",
        "    )(query + attention_output)\n",
        "\n",
        "    # Feed-forward layer\n",
        "    ffn = tf.keras.Sequential(\n",
        "        [\n",
        "            layers.Dense(config.FF_DIM, activation=\"relu\",kernel_initializer=tf.keras.initializers.GlorotUniform(seed=config.seed)),\n",
        "            layers.Dense(config.EMBED_DIM,kernel_initializer=tf.keras.initializers.GlorotUniform(seed=config.seed)),\n",
        "        ],\n",
        "        name=\"encoder_{}/ffn\".format(i),\n",
        "    )\n",
        "    ffn_output = ffn(attention_output)\n",
        "    ffn_output = layers.Dropout(0.1, name=\"encoder_{}/ffn_dropout\".format(i))(\n",
        "        ffn_output\n",
        "    )\n",
        "    sequence_output = layers.LayerNormalization(\n",
        "        epsilon=1e-6, name=\"encoder_{}/ffn_layernormalization\".format(i)\n",
        "    )(attention_output + ffn_output)\n",
        "    return sequence_output\n",
        "\n",
        "\n",
        "def get_pos_encoding_matrix(max_len, d_emb):\n",
        "    pos_enc = np.array(\n",
        "        [\n",
        "            [pos / np.power(10000, 2 * (j // 2) / d_emb) for j in range(d_emb)]\n",
        "            if pos != 0\n",
        "            else np.zeros(d_emb)\n",
        "            for pos in range(max_len)\n",
        "        ]\n",
        "    )\n",
        "    pos_enc[1:, 0::2] = np.sin(pos_enc[1:, 0::2])  # dim 2i\n",
        "    pos_enc[1:, 1::2] = np.cos(pos_enc[1:, 1::2])  # dim 2i+1\n",
        "    return pos_enc\n",
        "\n",
        "def create_elembert_model(inputs,config):\n",
        "    word_embeddings = layers.Embedding(config.VOCAB_SIZE, config.EMBED_DIM, mask_zero=True,name=\"element_embdgs\",\n",
        "                                       embeddings_initializer=tf.keras.initializers.GlorotUniform(seed=config.seed))(inputs)\n",
        "    position_embeddings = layers.Embedding(input_dim=config.MAX_LEN,output_dim=config.EMBED_DIM,\n",
        "                                           weights=[get_pos_encoding_matrix(config.MAX_LEN, config.EMBED_DIM)],\n",
        "                                           #embeddings_initializer=tf.keras.initializers.GlorotUniform(seed=config.seed),\n",
        "                                           name=\"position_embedding\",)(tf.range(start=0, limit=config.MAX_LEN, delta=1))\n",
        "    embeddings = word_embeddings + position_embeddings\n",
        "    encoder_output = embeddings\n",
        "    for i in range(config.NUM_LAYERS):\n",
        "        encoder_output = bert_module(encoder_output, encoder_output, encoder_output, i, config)\n",
        "    mlm_model = Model(inputs, encoder_output, name=\"masked_bert_model\")\n",
        "\n",
        "    return mlm_model\n"
      ]
    },
    {
      "cell_type": "code",
      "execution_count": 4,
      "id": "2c15c928",
      "metadata": {
        "id": "2c15c928"
      },
      "outputs": [],
      "source": [
        "class Config:\n",
        "    MAX_LEN = 128\n",
        "    BATCH_SIZE = 128\n",
        "    LR = 0.001\n",
        "    VOCAB_SIZE = 128\n",
        "    EMBED_DIM = 32\n",
        "    NUM_HEAD = 2 # used in bert model\n",
        "    FF_DIM = 32 # used in bert model\n",
        "    NUM_LAYERS = 2\n",
        "    MNAME = 'elembertR_'\n",
        "    MVER = 'V0'\n",
        "    DSPATH=\"/content/elementsem/data/\"\n",
        "    PREPATH=\"/content/elementsem/models/pretrained/\"\n",
        "    PATH=\"/content/elementsem/models/\"\n",
        "config = Config()\n",
        "seed=12345\n",
        "tf.random.set_seed(seed)\n",
        "np.random.seed(seed)"
      ]
    },
    {
      "cell_type": "code",
      "source": [
        "with open(config.PREPATH+'/el2id'+config.MVER+'.pkl', 'rb') as f:\n",
        "    db = pickle.load(f)\n",
        "\n",
        "element2id = db['el2id']\n",
        "config.VOCAB_SIZE = len(element2id)\n",
        "print('vocabSize: ', config.VOCAB_SIZE)\n",
        "\n",
        "def getTypesXYZ(file):\n",
        "    xyz,types=[],[]\n",
        "    lattice=file['lattice']['matrix']\n",
        "    for n in file['sites']:\n",
        "        types.append(n['label'])\n",
        "        xyz.append(n['xyz'])\n",
        "    return ['[CLS]']+types+['[SEP]'],lattice,np.asarray(xyz)\n",
        "\n",
        "def getModelInputs(inputs):\n",
        "    typesLst,pdfAtoms = [],[]\n",
        "    for i0,i in enumerate(inputs):\n",
        "        types,lattice,coords=getTypesXYZ(i.as_dict())\n",
        "        typesLst.append([element2id[i] for i in types])\n",
        "    return typesLst"
      ],
      "metadata": {
        "colab": {
          "base_uri": "https://localhost:8080/"
        },
        "id": "pPfSd6wFlr7l",
        "outputId": "4cd62815-15d2-4d53-c922-211494db9494"
      },
      "id": "pPfSd6wFlr7l",
      "execution_count": 5,
      "outputs": [
        {
          "output_type": "stream",
          "name": "stdout",
          "text": [
            "vocabSize:  101\n"
          ]
        }
      ]
    },
    {
      "cell_type": "markdown",
      "source": [
        "# Define model"
      ],
      "metadata": {
        "id": "LUTaU_NDf88I"
      },
      "id": "LUTaU_NDf88I"
    },
    {
      "cell_type": "code",
      "source": [
        "inputC = Input((config.MAX_LEN), dtype=tf.int64,name='types')\n",
        "def scheduler(epoch):\n",
        "    initial_lrate = config.LR\n",
        "    drop = 0.92\n",
        "    epochs_drop = 16\n",
        "    lr = initial_lrate * np.power(drop, np.floor((1+epoch)/epochs_drop))\n",
        "    if lr<0.0001:\n",
        "        lr = 0.0001\n",
        "    return lr"
      ],
      "metadata": {
        "id": "3qNGbbkhf8VU"
      },
      "id": "3qNGbbkhf8VU",
      "execution_count": 6,
      "outputs": []
    },
    {
      "cell_type": "markdown",
      "source": [
        "# Matbench: is_metal task"
      ],
      "metadata": {
        "id": "TSStDs2sgEve"
      },
      "id": "TSStDs2sgEve"
    },
    {
      "cell_type": "code",
      "source": [
        "from matbench.bench import MatbenchBenchmark\n",
        "from ase import Atoms\n",
        "from ase.io import read,write\n",
        "\n",
        "mb = MatbenchBenchmark(autoload=True,subset=[\"matbench_mp_is_metal\"])\n"
      ],
      "metadata": {
        "colab": {
          "base_uri": "https://localhost:8080/"
        },
        "id": "NwuT-yy-j1az",
        "outputId": "92a9e36d-9991-4a98-d981-2c386074d43c"
      },
      "id": "NwuT-yy-j1az",
      "execution_count": 7,
      "outputs": [
        {
          "output_type": "stream",
          "name": "stdout",
          "text": [
            "2024-01-28 11:42:53 INFO     Initialized benchmark 'matbench_v0.1' with 1 tasks: \n",
            "['matbench_mp_is_metal']\n"
          ]
        },
        {
          "output_type": "stream",
          "name": "stderr",
          "text": [
            "INFO:matbench:Initialized benchmark 'matbench_v0.1' with 1 tasks: \n",
            "['matbench_mp_is_metal']\n"
          ]
        }
      ]
    },
    {
      "cell_type": "code",
      "source": [
        "randseed = np.asarray([38005, 26930, 57873, 37766, 62593])\n",
        "for task in mb.tasks:\n",
        "    task.load()\n",
        "    for fold in task.folds:\n",
        "        print(fold)\n",
        "        # Inputs are either chemical compositions as strings\n",
        "        # or crystal structures as pymatgen.Structure objects.\n",
        "        # Outputs are either floats (regression tasks) or bools (classification tasks)\n",
        "        train_inputs, train_outputs = task.get_train_and_val_data(fold)\n",
        "        typesLst = getModelInputs(train_inputs)\n",
        "        x = tf.keras.preprocessing.sequence.pad_sequences(typesLst,dtype='int64',padding= 'post',truncating='post',maxlen=config.MAX_LEN)\n",
        "        # train and validate your model\n",
        "        labels=to_categorical(np.asarray(train_outputs.astype(int)))\n",
        "        p = np.random.RandomState(seed=seed).permutation(len(labels))\n",
        "        n = len(p)\n",
        "        trainidx=p[:int(n*0.9)]\n",
        "        validx = p[int(n*0.9):]\n",
        "        config.seed = randseed[fold]\n",
        "        z = create_elembert_model(inputC,config)\n",
        "        e = Lambda(lambda x: x[:,0],name='clsTokenEmb')(z.output)\n",
        "        f = Dense(2, activation=\"softmax\",name='out_tox',kernel_initializer=tf.keras.initializers.GlorotUniform(config.seed))(e)\n",
        "        # Create and compile the model (assuming create_elembert_model function is available)\n",
        "        model = Model(inputs=z.input, outputs=f)\n",
        "\n",
        "        optimizer = tf.keras.optimizers.Adam(learning_rate=config.LR)\n",
        "        model.compile(optimizer=optimizer, loss='categorical_crossentropy', metrics=[tf.keras.metrics.AUC()])\n",
        "        trainlog = model.fit(x=x[trainidx], y=labels[trainidx], validation_data = (x[validx],labels[validx]),\n",
        "                             verbose = 0,epochs = config.BATCH_SIZE, batch_size = config.BATCH_SIZE,\n",
        "                             callbacks = tf.keras.callbacks.LearningRateScheduler(scheduler))\n",
        "\n",
        "        # Get testing data\n",
        "        test_inputs,test_outputs = task.get_test_data(fold, include_target=True)\n",
        "\n",
        "        # Predict on the testing data\n",
        "        # Your output should be a pandas series, numpy array, or python iterable\n",
        "        # where the array elements are floats or bools\n",
        "        typesLstTest = getModelInputs(test_inputs)\n",
        "        xtest = tf.keras.preprocessing.sequence.pad_sequences(typesLstTest,dtype='int64',padding= 'post',truncating='post',maxlen=config.MAX_LEN)\n",
        "        predictions = model.predict(xtest,batch_size=config.BATCH_SIZE)\n",
        "        m = tf.keras.metrics.AUC()\n",
        "        m.update_state(to_categorical(np.asarray(test_outputs.astype(int))),predictions)\n",
        "        print('Fold:', fold, ' AUC:',m.result().numpy(),'binary tf-acc:',tf.keras.metrics.binary_accuracy(np.asarray(test_outputs.astype(int)),predictions.argmax(axis=-1), threshold=0.5).numpy())\n",
        "        # Record your data!\n",
        "        task.record(fold, np.asarray(predictions.argmax(axis=-1),dtype=bool))\n"
      ],
      "metadata": {
        "colab": {
          "base_uri": "https://localhost:8080/"
        },
        "id": "0DJi9k5mel87",
        "outputId": "7839cdd7-c02c-411a-f854-e468b2c068ef"
      },
      "id": "0DJi9k5mel87",
      "execution_count": null,
      "outputs": [
        {
          "output_type": "stream",
          "name": "stdout",
          "text": [
            "2024-01-28 11:42:53 INFO     Dataset matbench_mp_is_metal already loaded; not reloading dataset.\n"
          ]
        },
        {
          "output_type": "stream",
          "name": "stderr",
          "text": [
            "INFO:matbench.task:Dataset matbench_mp_is_metal already loaded; not reloading dataset.\n"
          ]
        },
        {
          "output_type": "stream",
          "name": "stdout",
          "text": [
            "0\n",
            "166/166 [==============================] - 1s 6ms/step\n",
            "Fold: 0  AUC: 0.94794345 binary tf-acc: 0.8823446\n",
            "2024-01-28 12:08:09 INFO     Recorded fold matbench_mp_is_metal-0 successfully.\n"
          ]
        },
        {
          "output_type": "stream",
          "name": "stderr",
          "text": [
            "INFO:matbench.task:Recorded fold matbench_mp_is_metal-0 successfully.\n"
          ]
        },
        {
          "output_type": "stream",
          "name": "stdout",
          "text": [
            "1\n",
            "166/166 [==============================] - 1s 6ms/step\n",
            "Fold: 1  AUC: 0.9451462 binary tf-acc: 0.8816379\n",
            "2024-01-28 12:33:25 INFO     Recorded fold matbench_mp_is_metal-1 successfully.\n"
          ]
        },
        {
          "output_type": "stream",
          "name": "stderr",
          "text": [
            "INFO:matbench.task:Recorded fold matbench_mp_is_metal-1 successfully.\n"
          ]
        },
        {
          "output_type": "stream",
          "name": "stdout",
          "text": [
            "2\n",
            "166/166 [==============================] - 1s 6ms/step\n",
            "Fold: 2  AUC: 0.9447557 binary tf-acc: 0.87829244\n",
            "2024-01-28 12:58:42 INFO     Recorded fold matbench_mp_is_metal-2 successfully.\n"
          ]
        },
        {
          "output_type": "stream",
          "name": "stderr",
          "text": [
            "INFO:matbench.task:Recorded fold matbench_mp_is_metal-2 successfully.\n"
          ]
        },
        {
          "output_type": "stream",
          "name": "stdout",
          "text": [
            "3\n",
            "166/166 [==============================] - 1s 6ms/step\n",
            "Fold: 3  AUC: 0.94661325 binary tf-acc: 0.8812553\n",
            "2024-01-28 13:23:58 INFO     Recorded fold matbench_mp_is_metal-3 successfully.\n"
          ]
        },
        {
          "output_type": "stream",
          "name": "stderr",
          "text": [
            "INFO:matbench.task:Recorded fold matbench_mp_is_metal-3 successfully.\n"
          ]
        },
        {
          "output_type": "stream",
          "name": "stdout",
          "text": [
            "4\n"
          ]
        }
      ]
    },
    {
      "cell_type": "code",
      "source": [
        "mb.to_file('elembert_matbenchmark.json.gz')"
      ],
      "metadata": {
        "id": "m3CTHKrzCsp4"
      },
      "id": "m3CTHKrzCsp4",
      "execution_count": null,
      "outputs": []
    },
    {
      "cell_type": "markdown",
      "source": [
        "# Save results"
      ],
      "metadata": {
        "id": "XXCpaPQlNpRc"
      },
      "id": "XXCpaPQlNpRc"
    },
    {
      "cell_type": "code",
      "source": [
        "extractorEmb = Model(inputs=model.inputs,outputs=model.get_layer(name=\"clsTokenEmb\").output)\n",
        "\n",
        "dbresults={}\n",
        "dbresults['pred_emb'] = extractorEmb.predict(xtest,batch_size = 32)\n",
        "dbresults['y_cls'] = to_categorical(np.asarray(test_outputs.astype(int)))\n",
        "dbresults['types'] = xtest\n",
        "dbresults['pred_cls'] = predictions\n",
        "dbresults['trainidx'] = trainidx\n",
        "dbresults['testidx'] = np.arange(len(xtest))\n",
        "dbresults['validx'] = validx"
      ],
      "metadata": {
        "id": "UX22_sNiNoyU"
      },
      "id": "UX22_sNiNoyU",
      "execution_count": null,
      "outputs": []
    },
    {
      "cell_type": "markdown",
      "source": [
        "# Postprocessing"
      ],
      "metadata": {
        "id": "UzAbw5kcQPmb"
      },
      "id": "UzAbw5kcQPmb"
    },
    {
      "cell_type": "code",
      "source": [
        "from matplotlib import cm\n",
        "from sklearn.manifold import TSNE\n",
        "from sklearn import metrics\n",
        "import matplotlib.pyplot as plt\n",
        "import seaborn as sns\n",
        "tsne = TSNE(n_components=2, verbose=0, random_state=123)\n",
        "z = tsne.fit_transform(dbresults['pred_emb'])"
      ],
      "metadata": {
        "id": "y_B7Z0AaQR83"
      },
      "id": "y_B7Z0AaQR83",
      "execution_count": null,
      "outputs": []
    },
    {
      "cell_type": "code",
      "source": [
        "dfr = pd.DataFrame()\n",
        "dfr[\"y\"] = np.asarray(dbresults['y_cls'].argmax(axis=-1))\n",
        "dfr[\"yp\"] = np.asarray(dbresults['pred_cls'].argmax(axis=-1))\n",
        "dfr[\"tSNE1\"] = z[:,0]\n",
        "dfr[\"tSNE2\"] = z[:,1]"
      ],
      "metadata": {
        "id": "y2nwnEEBa11h"
      },
      "id": "y2nwnEEBa11h",
      "execution_count": null,
      "outputs": []
    },
    {
      "cell_type": "code",
      "source": [
        "import matplotlib.pyplot as plt\n",
        "plt.rcParams.update({'font.size': 16})\n",
        "fig, axes = plt.subplots(1, 3, figsize=(15, 4.8))\n",
        "y_pclasses = dbresults['pred_cls'].argmax(axis=-1)\n",
        "y_classes = dbresults['y_cls'].argmax(axis=-1)\n",
        "print('binary tf-acc:',tf.keras.metrics.binary_accuracy(y_classes, y_pclasses, threshold=0.5).numpy())\n",
        "m = tf.keras.metrics.AUC()\n",
        "m.update_state(dbresults['y_cls'], dbresults['pred_cls'])\n",
        "print('Fold: ',fold, ' AUC:',m.result().numpy())\n",
        "confusion_matrix = metrics.confusion_matrix(y_classes, y_pclasses)\n",
        "cm_display = metrics.ConfusionMatrixDisplay(confusion_matrix = confusion_matrix)\n",
        "                                            #display_labels=['False','True'])\n",
        "cm_display.plot(ax=axes[0],cmap=plt.cm.Blues)\n",
        "dfr=dfr.sort_values(by=['y'])\n",
        "sns.scatterplot(ax=axes[1],x=\"tSNE1\", y=\"tSNE2\", hue=dfr.y.tolist(),data=dfr,alpha=0.3)#.set(title=title+\" data T-SNE projection\")\n",
        "axes[1].set_xlabel('$tSNE_1$')\n",
        "axes[1].set_ylabel('$tSNE_2$',labelpad=1)\n",
        "axes[1].set_title('Reference')\n",
        "#axes[1].legend('',frameon=False)\n",
        "dfr=dfr.sort_values(by=['yp'])\n",
        "sns.scatterplot(ax=axes[2],x=\"tSNE1\", y=\"tSNE2\", hue=dfr.yp.tolist(),data=dfr,alpha=0.3)#.set(title=title+\" data T-SNE projection\")\n",
        "axes[2].set_title('Predicted')\n",
        "axes[2].set_xlabel('$tSNE_1$')\n",
        "axes[2].set_ylabel('$tSNE_2$',labelpad=1)\n",
        "axes[2].legend('',frameon=False)\n",
        "fig.tight_layout()\n",
        "plt.show()"
      ],
      "metadata": {
        "id": "71fhr_-Vdwhq"
      },
      "id": "71fhr_-Vdwhq",
      "execution_count": null,
      "outputs": []
    },
    {
      "cell_type": "code",
      "source": [],
      "metadata": {
        "id": "qUt0WmYSRZIv"
      },
      "id": "qUt0WmYSRZIv",
      "execution_count": null,
      "outputs": []
    }
  ],
  "metadata": {
    "accelerator": "GPU",
    "colab": {
      "provenance": [],
      "include_colab_link": true
    },
    "gpuClass": "standard",
    "kernelspec": {
      "display_name": "Python 3 (ipykernel)",
      "language": "python",
      "name": "python3"
    },
    "language_info": {
      "codemirror_mode": {
        "name": "ipython",
        "version": 3
      },
      "file_extension": ".py",
      "mimetype": "text/x-python",
      "name": "python",
      "nbconvert_exporter": "python",
      "pygments_lexer": "ipython3",
      "version": "3.8.10"
    }
  },
  "nbformat": 4,
  "nbformat_minor": 5
}