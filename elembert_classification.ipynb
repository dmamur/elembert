{
  "cells": [
    {
      "cell_type": "markdown",
      "metadata": {
        "id": "view-in-github",
        "colab_type": "text"
      },
      "source": [
        "<a href=\"https://colab.research.google.com/github/dmamur/elementsem/blob/main/elembert_classification.ipynb\" target=\"_parent\"><img src=\"https://colab.research.google.com/assets/colab-badge.svg\" alt=\"Open In Colab\"/></a>"
      ]
    },
    {
      "cell_type": "code",
      "execution_count": 1,
      "id": "a7b1fb1b",
      "metadata": {
        "id": "a7b1fb1b",
        "scrolled": true
      },
      "outputs": [],
      "source": [
        "import pickle,random\n",
        "import pandas as pd\n",
        "import numpy as np\n",
        "import tensorflow as tf\n",
        "from tensorflow import keras\n",
        "from tensorflow.keras import layers\n",
        "from tensorflow.keras.layers import Embedding,Dense,Dropout,Input,Lambda\n",
        "from tensorflow.keras.models import Model\n",
        "import tensorflow.keras.backend as K\n",
        "import re, glob,os,sys\n",
        "from collections import defaultdict\n",
        "from tensorflow.python.keras.utils.vis_utils import plot_model\n",
        "from tensorflow.keras.models import load_model\n",
        "from tensorflow.keras.utils import to_categorical\n"
      ]
    },
    {
      "cell_type": "code",
      "source": [
        "!git clone https://github.com/dmamur/elementsem.git"
      ],
      "metadata": {
        "colab": {
          "base_uri": "https://localhost:8080/"
        },
        "id": "zgmyMBD2uJtw",
        "outputId": "d09d1632-0a8f-4284-d27a-f471df5d296b"
      },
      "id": "zgmyMBD2uJtw",
      "execution_count": 2,
      "outputs": [
        {
          "output_type": "stream",
          "name": "stdout",
          "text": [
            "Cloning into 'elementsem'...\n",
            "remote: Enumerating objects: 331, done.\u001b[K\n",
            "remote: Counting objects: 100% (49/49), done.\u001b[K\n",
            "remote: Compressing objects: 100% (49/49), done.\u001b[K\n",
            "remote: Total 331 (delta 19), reused 0 (delta 0), pack-reused 282\u001b[K\n",
            "Receiving objects: 100% (331/331), 74.41 MiB | 10.50 MiB/s, done.\n",
            "Resolving deltas: 100% (132/132), done.\n",
            "Updating files: 100% (236/236), done.\n"
          ]
        }
      ]
    },
    {
      "cell_type": "code",
      "execution_count": 179,
      "id": "2c15c928",
      "metadata": {
        "id": "2c15c928"
      },
      "outputs": [],
      "source": [
        "class Config:\n",
        "    MAX_LEN = 128\n",
        "    BATCH_SIZE = 32\n",
        "    LR = 0.001\n",
        "    VOCAB_SIZE = 128\n",
        "    EMBED_DIM = 32\n",
        "    NUM_HEAD = 2 # used in bert model\n",
        "    FF_DIM = 2 # used in bert model\n",
        "    NUM_LAYERS = 2\n",
        "    MNAME = 'elembert_'\n",
        "    MVER = 'V0'\n",
        "    DSPATH=\"/content/elementsem/data/\"\n",
        "    PREPATH=\"/content/elementsem/models/pretrained/\"\n",
        "    PATH=\"/content/elementsem/models/\"\n",
        "config = Config()\n",
        "seed=123456789\n",
        "tf.random.set_seed(seed)\n",
        "np.random.seed(seed)"
      ]
    },
    {
      "cell_type": "code",
      "source": [
        "ds = 'toxic_nr-arom'\n",
        "mname=config.PATH+config.MNAME+ds+'_%s_E_%s_H_%s_L_%s' % (config.MVER,config.EMBED_DIM,config.NUM_HEAD,config.NUM_LAYERS)"
      ],
      "metadata": {
        "id": "_jqCYhXXJxjE"
      },
      "id": "_jqCYhXXJxjE",
      "execution_count": 189,
      "outputs": []
    },
    {
      "cell_type": "markdown",
      "id": "86baf7df",
      "metadata": {
        "id": "86baf7df"
      },
      "source": [
        "# Load vocabulary and types"
      ]
    },
    {
      "cell_type": "code",
      "execution_count": 190,
      "id": "5fa12f0c",
      "metadata": {
        "id": "5fa12f0c",
        "colab": {
          "base_uri": "https://localhost:8080/",
          "height": 407
        },
        "outputId": "e390e7fc-ba41-441e-f045-e21a51e29e2e"
      },
      "outputs": [
        {
          "output_type": "error",
          "ename": "FileNotFoundError",
          "evalue": "ignored",
          "traceback": [
            "\u001b[0;31m---------------------------------------------------------------------------\u001b[0m",
            "\u001b[0;31mFileNotFoundError\u001b[0m                         Traceback (most recent call last)",
            "\u001b[0;32m<ipython-input-190-a4c28952ed5c>\u001b[0m in \u001b[0;36m<cell line: 1>\u001b[0;34m()\u001b[0m\n\u001b[0;32m----> 1\u001b[0;31m \u001b[0mdf\u001b[0m \u001b[0;34m=\u001b[0m \u001b[0mpd\u001b[0m\u001b[0;34m.\u001b[0m\u001b[0mread_csv\u001b[0m\u001b[0;34m(\u001b[0m\u001b[0mconfig\u001b[0m\u001b[0;34m.\u001b[0m\u001b[0mDSPATH\u001b[0m\u001b[0;34m+\u001b[0m\u001b[0mds\u001b[0m\u001b[0;34m+\u001b[0m\u001b[0;34m'_ds.csv'\u001b[0m\u001b[0;34m)\u001b[0m\u001b[0;34m\u001b[0m\u001b[0;34m\u001b[0m\u001b[0m\n\u001b[0m\u001b[1;32m      2\u001b[0m \u001b[0;34m\u001b[0m\u001b[0m\n\u001b[1;32m      3\u001b[0m \u001b[0mtypes\u001b[0m \u001b[0;34m=\u001b[0m \u001b[0mdf\u001b[0m\u001b[0;34m[\u001b[0m\u001b[0;34m'types'\u001b[0m\u001b[0;34m+\u001b[0m\u001b[0mconfig\u001b[0m\u001b[0;34m.\u001b[0m\u001b[0mMVER\u001b[0m\u001b[0;34m]\u001b[0m\u001b[0;34m.\u001b[0m\u001b[0mapply\u001b[0m\u001b[0;34m(\u001b[0m\u001b[0meval\u001b[0m\u001b[0;34m)\u001b[0m\u001b[0;34m.\u001b[0m\u001b[0mapply\u001b[0m\u001b[0;34m(\u001b[0m\u001b[0mlist\u001b[0m\u001b[0;34m)\u001b[0m\u001b[0;34m\u001b[0m\u001b[0;34m\u001b[0m\u001b[0m\n\u001b[1;32m      4\u001b[0m \u001b[0mlabels\u001b[0m  \u001b[0;34m=\u001b[0m \u001b[0mto_categorical\u001b[0m\u001b[0;34m(\u001b[0m\u001b[0mnp\u001b[0m\u001b[0;34m.\u001b[0m\u001b[0masarray\u001b[0m\u001b[0;34m(\u001b[0m\u001b[0mdf\u001b[0m\u001b[0;34m[\u001b[0m\u001b[0;34m'labels'\u001b[0m\u001b[0;34m]\u001b[0m\u001b[0;34m)\u001b[0m\u001b[0;34m)\u001b[0m\u001b[0;34m\u001b[0m\u001b[0;34m\u001b[0m\u001b[0m\n\u001b[1;32m      5\u001b[0m \u001b[0muniquelbls\u001b[0m\u001b[0;34m=\u001b[0m\u001b[0mlen\u001b[0m\u001b[0;34m(\u001b[0m\u001b[0mnp\u001b[0m\u001b[0;34m.\u001b[0m\u001b[0munique\u001b[0m\u001b[0;34m(\u001b[0m\u001b[0mnp\u001b[0m\u001b[0;34m.\u001b[0m\u001b[0masarray\u001b[0m\u001b[0;34m(\u001b[0m\u001b[0mdf\u001b[0m\u001b[0;34m[\u001b[0m\u001b[0;34m'labels'\u001b[0m\u001b[0;34m]\u001b[0m\u001b[0;34m)\u001b[0m\u001b[0;34m)\u001b[0m\u001b[0;34m)\u001b[0m\u001b[0;34m\u001b[0m\u001b[0;34m\u001b[0m\u001b[0m\n",
            "\u001b[0;32m/usr/local/lib/python3.10/dist-packages/pandas/util/_decorators.py\u001b[0m in \u001b[0;36mwrapper\u001b[0;34m(*args, **kwargs)\u001b[0m\n\u001b[1;32m    209\u001b[0m                 \u001b[0;32melse\u001b[0m\u001b[0;34m:\u001b[0m\u001b[0;34m\u001b[0m\u001b[0;34m\u001b[0m\u001b[0m\n\u001b[1;32m    210\u001b[0m                     \u001b[0mkwargs\u001b[0m\u001b[0;34m[\u001b[0m\u001b[0mnew_arg_name\u001b[0m\u001b[0;34m]\u001b[0m \u001b[0;34m=\u001b[0m \u001b[0mnew_arg_value\u001b[0m\u001b[0;34m\u001b[0m\u001b[0;34m\u001b[0m\u001b[0m\n\u001b[0;32m--> 211\u001b[0;31m             \u001b[0;32mreturn\u001b[0m \u001b[0mfunc\u001b[0m\u001b[0;34m(\u001b[0m\u001b[0;34m*\u001b[0m\u001b[0margs\u001b[0m\u001b[0;34m,\u001b[0m \u001b[0;34m**\u001b[0m\u001b[0mkwargs\u001b[0m\u001b[0;34m)\u001b[0m\u001b[0;34m\u001b[0m\u001b[0;34m\u001b[0m\u001b[0m\n\u001b[0m\u001b[1;32m    212\u001b[0m \u001b[0;34m\u001b[0m\u001b[0m\n\u001b[1;32m    213\u001b[0m         \u001b[0;32mreturn\u001b[0m \u001b[0mcast\u001b[0m\u001b[0;34m(\u001b[0m\u001b[0mF\u001b[0m\u001b[0;34m,\u001b[0m \u001b[0mwrapper\u001b[0m\u001b[0;34m)\u001b[0m\u001b[0;34m\u001b[0m\u001b[0;34m\u001b[0m\u001b[0m\n",
            "\u001b[0;32m/usr/local/lib/python3.10/dist-packages/pandas/util/_decorators.py\u001b[0m in \u001b[0;36mwrapper\u001b[0;34m(*args, **kwargs)\u001b[0m\n\u001b[1;32m    329\u001b[0m                     \u001b[0mstacklevel\u001b[0m\u001b[0;34m=\u001b[0m\u001b[0mfind_stack_level\u001b[0m\u001b[0;34m(\u001b[0m\u001b[0;34m)\u001b[0m\u001b[0;34m,\u001b[0m\u001b[0;34m\u001b[0m\u001b[0;34m\u001b[0m\u001b[0m\n\u001b[1;32m    330\u001b[0m                 )\n\u001b[0;32m--> 331\u001b[0;31m             \u001b[0;32mreturn\u001b[0m \u001b[0mfunc\u001b[0m\u001b[0;34m(\u001b[0m\u001b[0;34m*\u001b[0m\u001b[0margs\u001b[0m\u001b[0;34m,\u001b[0m \u001b[0;34m**\u001b[0m\u001b[0mkwargs\u001b[0m\u001b[0;34m)\u001b[0m\u001b[0;34m\u001b[0m\u001b[0;34m\u001b[0m\u001b[0m\n\u001b[0m\u001b[1;32m    332\u001b[0m \u001b[0;34m\u001b[0m\u001b[0m\n\u001b[1;32m    333\u001b[0m         \u001b[0;31m# error: \"Callable[[VarArg(Any), KwArg(Any)], Any]\" has no\u001b[0m\u001b[0;34m\u001b[0m\u001b[0;34m\u001b[0m\u001b[0m\n",
            "\u001b[0;32m/usr/local/lib/python3.10/dist-packages/pandas/io/parsers/readers.py\u001b[0m in \u001b[0;36mread_csv\u001b[0;34m(filepath_or_buffer, sep, delimiter, header, names, index_col, usecols, squeeze, prefix, mangle_dupe_cols, dtype, engine, converters, true_values, false_values, skipinitialspace, skiprows, skipfooter, nrows, na_values, keep_default_na, na_filter, verbose, skip_blank_lines, parse_dates, infer_datetime_format, keep_date_col, date_parser, dayfirst, cache_dates, iterator, chunksize, compression, thousands, decimal, lineterminator, quotechar, quoting, doublequote, escapechar, comment, encoding, encoding_errors, dialect, error_bad_lines, warn_bad_lines, on_bad_lines, delim_whitespace, low_memory, memory_map, float_precision, storage_options)\u001b[0m\n\u001b[1;32m    948\u001b[0m     \u001b[0mkwds\u001b[0m\u001b[0;34m.\u001b[0m\u001b[0mupdate\u001b[0m\u001b[0;34m(\u001b[0m\u001b[0mkwds_defaults\u001b[0m\u001b[0;34m)\u001b[0m\u001b[0;34m\u001b[0m\u001b[0;34m\u001b[0m\u001b[0m\n\u001b[1;32m    949\u001b[0m \u001b[0;34m\u001b[0m\u001b[0m\n\u001b[0;32m--> 950\u001b[0;31m     \u001b[0;32mreturn\u001b[0m \u001b[0m_read\u001b[0m\u001b[0;34m(\u001b[0m\u001b[0mfilepath_or_buffer\u001b[0m\u001b[0;34m,\u001b[0m \u001b[0mkwds\u001b[0m\u001b[0;34m)\u001b[0m\u001b[0;34m\u001b[0m\u001b[0;34m\u001b[0m\u001b[0m\n\u001b[0m\u001b[1;32m    951\u001b[0m \u001b[0;34m\u001b[0m\u001b[0m\n\u001b[1;32m    952\u001b[0m \u001b[0;34m\u001b[0m\u001b[0m\n",
            "\u001b[0;32m/usr/local/lib/python3.10/dist-packages/pandas/io/parsers/readers.py\u001b[0m in \u001b[0;36m_read\u001b[0;34m(filepath_or_buffer, kwds)\u001b[0m\n\u001b[1;32m    603\u001b[0m \u001b[0;34m\u001b[0m\u001b[0m\n\u001b[1;32m    604\u001b[0m     \u001b[0;31m# Create the parser.\u001b[0m\u001b[0;34m\u001b[0m\u001b[0;34m\u001b[0m\u001b[0m\n\u001b[0;32m--> 605\u001b[0;31m     \u001b[0mparser\u001b[0m \u001b[0;34m=\u001b[0m \u001b[0mTextFileReader\u001b[0m\u001b[0;34m(\u001b[0m\u001b[0mfilepath_or_buffer\u001b[0m\u001b[0;34m,\u001b[0m \u001b[0;34m**\u001b[0m\u001b[0mkwds\u001b[0m\u001b[0;34m)\u001b[0m\u001b[0;34m\u001b[0m\u001b[0;34m\u001b[0m\u001b[0m\n\u001b[0m\u001b[1;32m    606\u001b[0m \u001b[0;34m\u001b[0m\u001b[0m\n\u001b[1;32m    607\u001b[0m     \u001b[0;32mif\u001b[0m \u001b[0mchunksize\u001b[0m \u001b[0;32mor\u001b[0m \u001b[0miterator\u001b[0m\u001b[0;34m:\u001b[0m\u001b[0;34m\u001b[0m\u001b[0;34m\u001b[0m\u001b[0m\n",
            "\u001b[0;32m/usr/local/lib/python3.10/dist-packages/pandas/io/parsers/readers.py\u001b[0m in \u001b[0;36m__init__\u001b[0;34m(self, f, engine, **kwds)\u001b[0m\n\u001b[1;32m   1440\u001b[0m \u001b[0;34m\u001b[0m\u001b[0m\n\u001b[1;32m   1441\u001b[0m         \u001b[0mself\u001b[0m\u001b[0;34m.\u001b[0m\u001b[0mhandles\u001b[0m\u001b[0;34m:\u001b[0m \u001b[0mIOHandles\u001b[0m \u001b[0;34m|\u001b[0m \u001b[0;32mNone\u001b[0m \u001b[0;34m=\u001b[0m \u001b[0;32mNone\u001b[0m\u001b[0;34m\u001b[0m\u001b[0;34m\u001b[0m\u001b[0m\n\u001b[0;32m-> 1442\u001b[0;31m         \u001b[0mself\u001b[0m\u001b[0;34m.\u001b[0m\u001b[0m_engine\u001b[0m \u001b[0;34m=\u001b[0m \u001b[0mself\u001b[0m\u001b[0;34m.\u001b[0m\u001b[0m_make_engine\u001b[0m\u001b[0;34m(\u001b[0m\u001b[0mf\u001b[0m\u001b[0;34m,\u001b[0m \u001b[0mself\u001b[0m\u001b[0;34m.\u001b[0m\u001b[0mengine\u001b[0m\u001b[0;34m)\u001b[0m\u001b[0;34m\u001b[0m\u001b[0;34m\u001b[0m\u001b[0m\n\u001b[0m\u001b[1;32m   1443\u001b[0m \u001b[0;34m\u001b[0m\u001b[0m\n\u001b[1;32m   1444\u001b[0m     \u001b[0;32mdef\u001b[0m \u001b[0mclose\u001b[0m\u001b[0;34m(\u001b[0m\u001b[0mself\u001b[0m\u001b[0;34m)\u001b[0m \u001b[0;34m->\u001b[0m \u001b[0;32mNone\u001b[0m\u001b[0;34m:\u001b[0m\u001b[0;34m\u001b[0m\u001b[0;34m\u001b[0m\u001b[0m\n",
            "\u001b[0;32m/usr/local/lib/python3.10/dist-packages/pandas/io/parsers/readers.py\u001b[0m in \u001b[0;36m_make_engine\u001b[0;34m(self, f, engine)\u001b[0m\n\u001b[1;32m   1733\u001b[0m                 \u001b[0;32mif\u001b[0m \u001b[0;34m\"b\"\u001b[0m \u001b[0;32mnot\u001b[0m \u001b[0;32min\u001b[0m \u001b[0mmode\u001b[0m\u001b[0;34m:\u001b[0m\u001b[0;34m\u001b[0m\u001b[0;34m\u001b[0m\u001b[0m\n\u001b[1;32m   1734\u001b[0m                     \u001b[0mmode\u001b[0m \u001b[0;34m+=\u001b[0m \u001b[0;34m\"b\"\u001b[0m\u001b[0;34m\u001b[0m\u001b[0;34m\u001b[0m\u001b[0m\n\u001b[0;32m-> 1735\u001b[0;31m             self.handles = get_handle(\n\u001b[0m\u001b[1;32m   1736\u001b[0m                 \u001b[0mf\u001b[0m\u001b[0;34m,\u001b[0m\u001b[0;34m\u001b[0m\u001b[0;34m\u001b[0m\u001b[0m\n\u001b[1;32m   1737\u001b[0m                 \u001b[0mmode\u001b[0m\u001b[0;34m,\u001b[0m\u001b[0;34m\u001b[0m\u001b[0;34m\u001b[0m\u001b[0m\n",
            "\u001b[0;32m/usr/local/lib/python3.10/dist-packages/pandas/io/common.py\u001b[0m in \u001b[0;36mget_handle\u001b[0;34m(path_or_buf, mode, encoding, compression, memory_map, is_text, errors, storage_options)\u001b[0m\n\u001b[1;32m    854\u001b[0m         \u001b[0;32mif\u001b[0m \u001b[0mioargs\u001b[0m\u001b[0;34m.\u001b[0m\u001b[0mencoding\u001b[0m \u001b[0;32mand\u001b[0m \u001b[0;34m\"b\"\u001b[0m \u001b[0;32mnot\u001b[0m \u001b[0;32min\u001b[0m \u001b[0mioargs\u001b[0m\u001b[0;34m.\u001b[0m\u001b[0mmode\u001b[0m\u001b[0;34m:\u001b[0m\u001b[0;34m\u001b[0m\u001b[0;34m\u001b[0m\u001b[0m\n\u001b[1;32m    855\u001b[0m             \u001b[0;31m# Encoding\u001b[0m\u001b[0;34m\u001b[0m\u001b[0;34m\u001b[0m\u001b[0m\n\u001b[0;32m--> 856\u001b[0;31m             handle = open(\n\u001b[0m\u001b[1;32m    857\u001b[0m                 \u001b[0mhandle\u001b[0m\u001b[0;34m,\u001b[0m\u001b[0;34m\u001b[0m\u001b[0;34m\u001b[0m\u001b[0m\n\u001b[1;32m    858\u001b[0m                 \u001b[0mioargs\u001b[0m\u001b[0;34m.\u001b[0m\u001b[0mmode\u001b[0m\u001b[0;34m,\u001b[0m\u001b[0;34m\u001b[0m\u001b[0;34m\u001b[0m\u001b[0m\n",
            "\u001b[0;31mFileNotFoundError\u001b[0m: [Errno 2] No such file or directory: '/content/elementsem/data/toxic_nr-arom_ds.csv'"
          ]
        }
      ],
      "source": [
        "df = pd.read_csv(config.DSPATH+ds+'_ds.csv')\n",
        "\n",
        "types = df['types'+config.MVER].apply(eval).apply(list)\n",
        "labels  = to_categorical(np.asarray(df['labels']))\n",
        "uniquelbls=len(np.unique(np.asarray(df['labels'])))\n",
        "\n",
        "with open(config.PREPATH+'/el2id'+config.MVER+'.pkl', 'rb') as f:\n",
        "    db = pickle.load(f)\n",
        "\n",
        "element2id = db['el2id']\n",
        "el2id = db['el2id']\n",
        "config.VOCAB_SIZE = len(element2id)\n",
        "print('vocabSize: ', config.VOCAB_SIZE)\n"
      ]
    },
    {
      "cell_type": "markdown",
      "source": [
        "# Convert types to integers"
      ],
      "metadata": {
        "id": "x52k2FYzNWS8"
      },
      "id": "x52k2FYzNWS8"
    },
    {
      "cell_type": "code",
      "source": [
        "types0=[['[CLS]']+i+['[SEP]'] for i in types]\n",
        "typesNumerical=[]\n",
        "for i in types0:\n",
        "    typesNumerical.append([element2id[j] for j in i])\n",
        "\n",
        "x3 = tf.keras.preprocessing.sequence.pad_sequences(typesNumerical,dtype='int32',padding= 'post',truncating='post',maxlen=config.MAX_LEN)\n",
        "\n",
        "#z = load_model(config.PREPATH+'/elembert_'+config.MVER+'_E_'+config.EMBED_DIM.+'_H_'+config.NUM_HEAD+'_L_'+config.NUM_LAYERS+'_bert.h5',compile=False)\n",
        "z = load_model(config.PREPATH+'/elembert_%s_E_%s_H_%s_L_%s_bert.h5' % (config.MVER,config.EMBED_DIM,config.NUM_HEAD,config.NUM_LAYERS),compile=False)\n",
        "z.trainable = True\n",
        "\n",
        "e = Lambda(lambda x: x[:,0],name='clsTokenEmb')(z.output)\n",
        "f = Dense(uniquelbls, activation=\"softmax\",name='out_tox')(e)\n",
        "\n",
        "model = Model(inputs=z.input, outputs=f)\n",
        "\n",
        "#plot_model(model, show_shapes=True, show_layer_names=True,to_file=mname+\".png\")\n",
        "\n",
        "optimizer = tf.keras.optimizers.Adam(learning_rate=config.LR)\n",
        "model.compile(optimizer=optimizer, loss='categorical_crossentropy', metrics=[tf.keras.metrics.AUC()])\n",
        "\n",
        "epochs=2*config.BATCH_SIZE\n",
        "model.summary()\n",
        "\n",
        "csv_logger = tf.keras.callbacks.CSVLogger(mname+\"_log.csv\", append=True)\n",
        "\n",
        "checkpoint = tf.keras.callbacks.ModelCheckpoint(mname+\".h5\",verbose=2, mode='min',save_freq=1000,)\n",
        "\n",
        "callbacks_list = [checkpoint,csv_logger]\n",
        "\n",
        "print('dataLen: ',x3.shape,labels.shape)\n",
        "\n",
        "p = np.random.RandomState(seed=seed).permutation(len(labels))\n",
        "n = len(p)\n",
        "\n",
        "trainidx=p[:round(len(p)*0.8)]\n",
        "validx = p[int(n*0.8):int(n*0.9)]\n",
        "testidx = p[int(n*0.9):]\n",
        "\n",
        "trainlog = model.fit(x=x3[trainidx], y=labels[trainidx],\n",
        "                     validation_data = (x3[validx],labels[validx]),\n",
        "                     verbose = 1,epochs = epochs, batch_size = config.BATCH_SIZE,callbacks = callbacks_list)\n",
        "\n",
        "model.save(mname+\".h5\")"
      ],
      "metadata": {
        "id": "oZPse7PrNU1v"
      },
      "id": "oZPse7PrNU1v",
      "execution_count": null,
      "outputs": []
    },
    {
      "cell_type": "markdown",
      "source": [
        "# Save results"
      ],
      "metadata": {
        "id": "XXCpaPQlNpRc"
      },
      "id": "XXCpaPQlNpRc"
    },
    {
      "cell_type": "code",
      "source": [
        "extractorEmb = Model(inputs=model.inputs,outputs=model.get_layer(name=\"clsTokenEmb\").output)\n",
        "\n",
        "preds = model.predict(x3,batch_size = config.BATCH_SIZE)\n",
        "\n",
        "dbresults={}\n",
        "dbresults['pred_emb'] = extractorEmb.predict(x3,batch_size = config.BATCH_SIZE)\n",
        "dbresults['pred_cls'] = preds\n",
        "dbresults['y_cls'] = labels\n",
        "dbresults['formula'] = df['formula']\n",
        "dbresults['ids'] = df['ids']\n",
        "dbresults['types'] = types\n",
        "dbresults['trainidx'] = trainidx\n",
        "dbresults['testidx'] = validx\n",
        "dbresults['validx'] = validx\n",
        "\n",
        "with open(mname+'_results.pkl', 'wb') as f:\n",
        "    pickle.dump(dbresults, f)"
      ],
      "metadata": {
        "id": "UX22_sNiNoyU"
      },
      "id": "UX22_sNiNoyU",
      "execution_count": null,
      "outputs": []
    },
    {
      "cell_type": "markdown",
      "source": [
        "# Postprocessing"
      ],
      "metadata": {
        "id": "UzAbw5kcQPmb"
      },
      "id": "UzAbw5kcQPmb"
    },
    {
      "cell_type": "code",
      "source": [
        "from matplotlib import cm\n",
        "from sklearn.manifold import TSNE\n",
        "from sklearn import metrics\n",
        "import matplotlib.pyplot as plt\n",
        "import seaborn as sns\n",
        "tsne = TSNE(n_components=2, verbose=0, random_state=123)\n",
        "z = tsne.fit_transform(dbresults['pred_emb'])"
      ],
      "metadata": {
        "id": "y_B7Z0AaQR83"
      },
      "id": "y_B7Z0AaQR83",
      "execution_count": null,
      "outputs": []
    },
    {
      "cell_type": "code",
      "source": [
        "dfr = pd.DataFrame()\n",
        "dfr[\"y\"] = np.asarray(dbresults['y_cls'].argmax(axis=-1)).astype('bool')\n",
        "dfr[\"yp\"] = np.asarray(dbresults['pred_cls'].argmax(axis=-1)).astype('bool')\n",
        "dfr[\"tSNE1\"] = z[:,0]\n",
        "dfr[\"tSNE2\"] = z[:,1]"
      ],
      "metadata": {
        "id": "y2nwnEEBa11h"
      },
      "id": "y2nwnEEBa11h",
      "execution_count": null,
      "outputs": []
    },
    {
      "cell_type": "code",
      "source": [
        "plt.rcParams.update({'font.size': 16})\n",
        "fig, axes = plt.subplots(1, 3, figsize=(15, 4.8))\n",
        "y_pclasses = dbresults['pred_cls'][dbresults['testidx']].argmax(axis=-1).tolist()\n",
        "y_classes = dbresults['y_cls'][dbresults['testidx']].argmax(axis=-1)\n",
        "m = tf.keras.metrics.AUC()\n",
        "m.update_state(dbresults['y_cls'][dbresults['testidx']], dbresults['pred_cls'][dbresults['testidx']])\n",
        "print(mname,'binary tf-acc:',tf.keras.metrics.binary_accuracy(y_classes, y_pclasses, threshold=0.5).numpy(),'AUC:',m.result().numpy())\n",
        "confusion_matrix = metrics.confusion_matrix(y_classes, y_pclasses)\n",
        "cm_display = metrics.ConfusionMatrixDisplay(confusion_matrix = confusion_matrix,\n",
        "                                            display_labels=['False','True'])\n",
        "cm_display.plot(ax=axes[0],cmap=plt.cm.Blues)\n",
        "\n",
        "sns.scatterplot(ax=axes[1],x=\"tSNE1\", y=\"tSNE2\", hue=dfr.y.tolist(),data=dfr)#.set(title=title+\" data T-SNE projection\")\n",
        "axes[1].set_xlabel('$tSNE_1$')\n",
        "axes[1].set_ylabel('$tSNE_2$',labelpad=1)\n",
        "axes[1].set_title('Reference')\n",
        "sns.scatterplot(ax=axes[2],x=\"tSNE1\", y=\"tSNE2\", hue=dfr.yp.tolist(),data=dfr)#.set(title=title+\" data T-SNE projection\")\n",
        "axes[2].set_title('Predicted')\n",
        "axes[2].set_xlabel('$tSNE_1$')\n",
        "axes[2].set_ylabel('$tSNE_2$',labelpad=1)\n",
        "axes[2].legend('',frameon=False)\n",
        "fig.tight_layout()\n",
        "plt.show()\n",
        "plt.savefig(mname+'_tsne.jpg',format='jpg',dpi=800,bbox_inches = \"tight\",pil_kwargs={\"compression\": \"tiff_lzw\"})"
      ],
      "metadata": {
        "id": "UJeoJjKSQyV_"
      },
      "id": "UJeoJjKSQyV_",
      "execution_count": null,
      "outputs": []
    },
    {
      "cell_type": "code",
      "source": [
        "np.max([len(i) for i in types])"
      ],
      "metadata": {
        "id": "mgph5yf63b22"
      },
      "id": "mgph5yf63b22",
      "execution_count": null,
      "outputs": []
    },
    {
      "cell_type": "markdown",
      "source": [
        "/content/elementsem/models/elembert_toxic_sr-p53_V0_E_32_H_2_L_2 binary tf-acc: 0.96871376 AUC: 0.98945105\n",
        "/content/elementsem/models/elembert_toxic_sr-p53_V1_E_32_H_2_L_2 binary tf-acc: 0.9571263  AUC: 0.9820951\n",
        "/content/elementsem/models/elembert_toxic_sr-mmp_V0_E_32_H_2_L_2 binary tf-acc: 0.8920765 AUC: 0.9487883\n",
        "/content/elementsem/models/elembert_toxic_sr-mmp_V1_E_32_H_2_L_2 binary tf-acc: 0.90163934 AUC: 0.94474494\n",
        "/content/elementsem/models/elembert_toxic_sr-hse_V0_E_32_H_2_L_2 binary tf-acc: 0.94969326 AUC: 0.95752335\n",
        "/content/elementsem/models/elembert_toxic_sr-hse_V1_E_32_H_2_L_2 binary tf-acc: 0.9190184 AUC: 0.9508389\n",
        "/content/elementsem/models/elembert_toxic_sr-atad5_V0_E_32_H_2_L_2 binary tf-acc: 0.9570957 AUC: 0.9825725\n",
        "/content/elementsem/models/elembert_toxic_sr-atad5_V1_E_32_H_2_L_2 binary tf-acc: 0.9537954 AUC: 0.9790919\n",
        "/content/elementsem/models/elembert_toxic_sr-are_V0_E_32_H_2_L_2 binary tf-acc: 0.8563459 AUC: 0.90734774\n",
        "/content/elementsem/models/elembert_toxic_sr-are_V1_E_32_H_2_L_2 binary tf-acc: 0.83682007 AUC: 0.9020403\n",
        "/content/elementsem/models/elembert_toxic_nr-ppar-gamma_V0_E_32_H_2_L_2 binary tf-acc: 0.9767726 AUC: 0.9827267\n",
        "/content/elementsem/models/elembert_toxic_nr-ppar-gamma_V1_E_32_H_2_L_2 binary tf-acc: 0.97310513 AUC: 0.98619694\n",
        "/content/elementsem/models/elembert_toxic_nr-er_V0_E_32_H_2_L_2 binary tf-acc: 0.9103896 AUC: 0.92926294\n",
        "/content/elementsem/models/elembert_toxic_nr-er_V1_E_32_H_2_L_2 binary tf-acc: 0.8922078 AUC: 0.9366631\n",
        "/content/elementsem/models/elembert_toxic_nr-er-lbd_V0_E_32_H_2_L_2 binary tf-acc: 0.9565714 AUC: 0.97466516\n",
        "/content/elementsem/models/elembert_toxic_nr-er-lbd_V1_E_32_H_2_L_2 binary tf-acc: 0.9497143 AUC: 0.97794485\n",
        "/content/elementsem/models/elembert_toxic_nr-ar_V0_E_32_H_2_L_2 binary tf-acc: 0.9604701 AUC: 0.9732301\n",
        "/content/elementsem/models/elembert_toxic_nr-ar_V1_E_32_H_2_L_2 binary tf-acc: 0.9583333 AUC: 0.96689063"
      ],
      "metadata": {
        "id": "8MMeqoheGGPg"
      },
      "id": "8MMeqoheGGPg"
    }
  ],
  "metadata": {
    "accelerator": "GPU",
    "colab": {
      "provenance": [],
      "include_colab_link": true
    },
    "gpuClass": "standard",
    "kernelspec": {
      "display_name": "Python 3 (ipykernel)",
      "language": "python",
      "name": "python3"
    },
    "language_info": {
      "codemirror_mode": {
        "name": "ipython",
        "version": 3
      },
      "file_extension": ".py",
      "mimetype": "text/x-python",
      "name": "python",
      "nbconvert_exporter": "python",
      "pygments_lexer": "ipython3",
      "version": "3.8.10"
    }
  },
  "nbformat": 4,
  "nbformat_minor": 5
}